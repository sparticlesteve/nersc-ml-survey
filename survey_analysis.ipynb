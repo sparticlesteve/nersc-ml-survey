{
 "cells": [
  {
   "cell_type": "markdown",
   "id": "a9855240-dfd3-4d13-942d-07be025ec810",
   "metadata": {},
   "source": [
    "# ML@NERSC Survey Analysis\n",
    "\n",
    "This notebook contains the plotting code for the ML@NERSC survey results.\n",
    "\n",
    "To get started, download the responses spreadsheet as a tab-separated file (TSV) and put it in this directory.\n",
    "\n",
    "ML@NERSC 2022 responses: https://docs.google.com/spreadsheets/d/1U6wNudHEaOquwzEF7ePONncIzXBmJpcbDNZoDo3sYtU/edit?usp=sharing"
   ]
  },
  {
   "cell_type": "code",
   "execution_count": 5,
   "id": "92f34607-2aca-466b-b40e-24d4a8061006",
   "metadata": {},
   "outputs": [],
   "source": [
    "import pandas as pd\n",
    "\n",
    "import matplotlib.pyplot as plt"
   ]
  },
  {
   "cell_type": "code",
   "execution_count": 6,
   "id": "a2a0ab71-5a56-4b49-9a0c-02274ffe738d",
   "metadata": {},
   "outputs": [],
   "source": [
    "def split_multi_response(x):\n",
    "    \"\"\"Splits a multiple checkbox answer column into single flattened Series\"\"\"\n",
    "    x = x.dropna()\n",
    "    return x.apply(lambda x: [s.strip() for s in x.split(',')]).explode()"
   ]
  },
  {
   "cell_type": "code",
   "execution_count": 98,
   "id": "9e3fc271-9a51-4bf1-8766-2502aef2189c",
   "metadata": {},
   "outputs": [],
   "source": [
    "# Global settings\n",
    "colors = plt.rcParams['axes.prop_cycle'].by_key()['color']\n",
    "plt.rcParams['figure.figsize'] = (9.0, 6.0)\n",
    "plt.rcParams['font.size'] = 16.0"
   ]
  },
  {
   "cell_type": "markdown",
   "id": "c0a198b6-275f-4fd4-9152-d172d7c291bd",
   "metadata": {},
   "source": [
    "## Load the data"
   ]
  },
  {
   "cell_type": "code",
   "execution_count": 99,
   "id": "afb646ce-cdc4-4d39-a29c-51ea3f247df1",
   "metadata": {},
   "outputs": [],
   "source": [
    "data = pd.read_csv('ML@NERSC User Survey 2022 (Responses) - Form Responses 1.tsv', sep='\\t')"
   ]
  },
  {
   "cell_type": "code",
   "execution_count": 100,
   "id": "3ca8a02c-9150-4c73-890e-ed2306396c75",
   "metadata": {},
   "outputs": [
    {
     "data": {
      "text/plain": [
       "(182, 46)"
      ]
     },
     "execution_count": 100,
     "metadata": {},
     "output_type": "execute_result"
    }
   ],
   "source": [
    "data.shape"
   ]
  },
  {
   "cell_type": "code",
   "execution_count": 101,
   "id": "7a3e4351-2a21-4f88-b60d-03e6be5c9736",
   "metadata": {},
   "outputs": [
    {
     "data": {
      "text/html": [
       "<div>\n",
       "<style scoped>\n",
       "    .dataframe tbody tr th:only-of-type {\n",
       "        vertical-align: middle;\n",
       "    }\n",
       "\n",
       "    .dataframe tbody tr th {\n",
       "        vertical-align: top;\n",
       "    }\n",
       "\n",
       "    .dataframe thead th {\n",
       "        text-align: right;\n",
       "    }\n",
       "</style>\n",
       "<table border=\"1\" class=\"dataframe\">\n",
       "  <thead>\n",
       "    <tr style=\"text-align: right;\">\n",
       "      <th></th>\n",
       "      <th>Timestamp</th>\n",
       "      <th>How do you rate your expertise in Machine Learning?</th>\n",
       "      <th>What science domains are you using ML for?</th>\n",
       "      <th>Any publications that you would like to share with us</th>\n",
       "      <th>What frameworks/tools are you using?</th>\n",
       "      <th>What is your preferred environment for ML development?</th>\n",
       "      <th>Where do you run your ML models (include future plans)? [My own laptop or development box]</th>\n",
       "      <th>Where do you run your ML models (include future plans)? [NERSC]</th>\n",
       "      <th>Where do you run your ML models (include future plans)? [Other HPC center(s)]</th>\n",
       "      <th>Where do you run your ML models (include future plans)? [University/Group cluster]</th>\n",
       "      <th>...</th>\n",
       "      <th>How well does the ML software stack at NERSC satisfy your needs?</th>\n",
       "      <th>How satisfied are you with NERSC's ML user support (documentation, help tickets, training events)?</th>\n",
       "      <th>For your ML workloads at NERSC, what are your biggest pain points? Please rate your level of concern or challenges with the following: [Installing/using software]</th>\n",
       "      <th>For your ML workloads at NERSC, what are your biggest pain points? Please rate your level of concern or challenges with the following: [Application performance]</th>\n",
       "      <th>For your ML workloads at NERSC, what are your biggest pain points? Please rate your level of concern or challenges with the following: [Getting interactive resources for development/testing]</th>\n",
       "      <th>For your ML workloads at NERSC, what are your biggest pain points? Please rate your level of concern or challenges with the following: [Submitting jobs]</th>\n",
       "      <th>For your ML workloads at NERSC, what are your biggest pain points? Please rate your level of concern or challenges with the following: [Getting jobs through the queues]</th>\n",
       "      <th>Are there any other aspects of running your ML workload at NERSC that you find challenging?</th>\n",
       "      <th>Do you have any other comments or suggestions to improve the suitability of NERSC resources for Machine Learning?</th>\n",
       "      <th>Email (optional, so we can follow-up with you if relevant)</th>\n",
       "    </tr>\n",
       "  </thead>\n",
       "  <tbody>\n",
       "    <tr>\n",
       "      <th>0</th>\n",
       "      <td>4/8/2022 17:08:58</td>\n",
       "      <td>5.0</td>\n",
       "      <td>High Energy Physics</td>\n",
       "      <td>NaN</td>\n",
       "      <td>TensorFlow 1, TensorFlow 2, Keras</td>\n",
       "      <td>IDEs / text editors and scripts</td>\n",
       "      <td>NaN</td>\n",
       "      <td>Training, Inference</td>\n",
       "      <td>NaN</td>\n",
       "      <td>Inference</td>\n",
       "      <td>...</td>\n",
       "      <td>6.0</td>\n",
       "      <td>7.0</td>\n",
       "      <td>No challenge or concern</td>\n",
       "      <td>Somewhat challenging</td>\n",
       "      <td>Somewhat challenging</td>\n",
       "      <td>No challenge or concern</td>\n",
       "      <td>Highly challenging</td>\n",
       "      <td>NaN</td>\n",
       "      <td>NaN</td>\n",
       "      <td>NaN</td>\n",
       "    </tr>\n",
       "    <tr>\n",
       "      <th>1</th>\n",
       "      <td>4/8/2022 17:36:26</td>\n",
       "      <td>5.0</td>\n",
       "      <td>Applied Mathematics</td>\n",
       "      <td>https://arxiv.org/abs/2202.11214</td>\n",
       "      <td>PyTorch, scikit-learn</td>\n",
       "      <td>IDEs / text editors and scripts</td>\n",
       "      <td>NaN</td>\n",
       "      <td>Training, Inference</td>\n",
       "      <td>NaN</td>\n",
       "      <td>NaN</td>\n",
       "      <td>...</td>\n",
       "      <td>7.0</td>\n",
       "      <td>7.0</td>\n",
       "      <td>No challenge or concern</td>\n",
       "      <td>Somewhat challenging</td>\n",
       "      <td>No challenge or concern</td>\n",
       "      <td>No challenge or concern</td>\n",
       "      <td>Highly challenging</td>\n",
       "      <td>NaN</td>\n",
       "      <td>NaN</td>\n",
       "      <td>shashanksubramanian@lbl.gov</td>\n",
       "    </tr>\n",
       "    <tr>\n",
       "      <th>2</th>\n",
       "      <td>5/9/2022 16:40:25</td>\n",
       "      <td>1.0</td>\n",
       "      <td>Astrophysics</td>\n",
       "      <td>NaN</td>\n",
       "      <td>NaN</td>\n",
       "      <td>NaN</td>\n",
       "      <td>Inference</td>\n",
       "      <td>Training, Inference</td>\n",
       "      <td>Inference</td>\n",
       "      <td>NaN</td>\n",
       "      <td>...</td>\n",
       "      <td>NaN</td>\n",
       "      <td>NaN</td>\n",
       "      <td>NaN</td>\n",
       "      <td>NaN</td>\n",
       "      <td>NaN</td>\n",
       "      <td>NaN</td>\n",
       "      <td>NaN</td>\n",
       "      <td>NaN</td>\n",
       "      <td>NaN</td>\n",
       "      <td>NaN</td>\n",
       "    </tr>\n",
       "    <tr>\n",
       "      <th>3</th>\n",
       "      <td>5/9/2022 16:55:58</td>\n",
       "      <td>6.0</td>\n",
       "      <td>Biosciences, Earth and Environmental Science, ...</td>\n",
       "      <td>NaN</td>\n",
       "      <td>PyTorch, scikit-learn, weka</td>\n",
       "      <td>Notebooks (Jupyter or Colab)</td>\n",
       "      <td>Training, Inference</td>\n",
       "      <td>Training, Inference</td>\n",
       "      <td>Training, Inference</td>\n",
       "      <td>NaN</td>\n",
       "      <td>...</td>\n",
       "      <td>5.0</td>\n",
       "      <td>5.0</td>\n",
       "      <td>Somewhat challenging</td>\n",
       "      <td>Somewhat challenging</td>\n",
       "      <td>Highly challenging</td>\n",
       "      <td>Somewhat challenging</td>\n",
       "      <td>Highly challenging</td>\n",
       "      <td>NaN</td>\n",
       "      <td>NaN</td>\n",
       "      <td>NaN</td>\n",
       "    </tr>\n",
       "    <tr>\n",
       "      <th>4</th>\n",
       "      <td>5/10/2022 4:36:49</td>\n",
       "      <td>5.0</td>\n",
       "      <td>Chemistry, Computer Science, Physics - General</td>\n",
       "      <td>NaN</td>\n",
       "      <td>TensorFlow 2, PyTorch, JAX</td>\n",
       "      <td>IDEs / text editors and scripts</td>\n",
       "      <td>Training</td>\n",
       "      <td>NaN</td>\n",
       "      <td>Training</td>\n",
       "      <td>NaN</td>\n",
       "      <td>...</td>\n",
       "      <td>6.0</td>\n",
       "      <td>5.0</td>\n",
       "      <td>No challenge or concern</td>\n",
       "      <td>Somewhat challenging</td>\n",
       "      <td>Somewhat challenging</td>\n",
       "      <td>No challenge or concern</td>\n",
       "      <td>Somewhat challenging</td>\n",
       "      <td>NaN</td>\n",
       "      <td>NaN</td>\n",
       "      <td>NaN</td>\n",
       "    </tr>\n",
       "  </tbody>\n",
       "</table>\n",
       "<p>5 rows × 46 columns</p>\n",
       "</div>"
      ],
      "text/plain": [
       "           Timestamp  How do you rate your expertise in Machine Learning?  \\\n",
       "0  4/8/2022 17:08:58                                                5.0     \n",
       "1  4/8/2022 17:36:26                                                5.0     \n",
       "2  5/9/2022 16:40:25                                                1.0     \n",
       "3  5/9/2022 16:55:58                                                6.0     \n",
       "4  5/10/2022 4:36:49                                                5.0     \n",
       "\n",
       "          What science domains are you using ML for?  \\\n",
       "0                                High Energy Physics   \n",
       "1                                Applied Mathematics   \n",
       "2                                       Astrophysics   \n",
       "3  Biosciences, Earth and Environmental Science, ...   \n",
       "4     Chemistry, Computer Science, Physics - General   \n",
       "\n",
       "  Any publications that you would like to share with us  \\\n",
       "0                                                NaN      \n",
       "1                   https://arxiv.org/abs/2202.11214      \n",
       "2                                                NaN      \n",
       "3                                                NaN      \n",
       "4                                                NaN      \n",
       "\n",
       "  What frameworks/tools are you using?  \\\n",
       "0    TensorFlow 1, TensorFlow 2, Keras   \n",
       "1                PyTorch, scikit-learn   \n",
       "2                                  NaN   \n",
       "3          PyTorch, scikit-learn, weka   \n",
       "4           TensorFlow 2, PyTorch, JAX   \n",
       "\n",
       "  What is your preferred environment for ML development?  \\\n",
       "0                    IDEs / text editors and scripts       \n",
       "1                    IDEs / text editors and scripts       \n",
       "2                                                NaN       \n",
       "3                       Notebooks (Jupyter or Colab)       \n",
       "4                    IDEs / text editors and scripts       \n",
       "\n",
       "  Where do you run your ML models (include future plans)? [My own laptop or development box]  \\\n",
       "0                                                NaN                                           \n",
       "1                                                NaN                                           \n",
       "2                                          Inference                                           \n",
       "3                                Training, Inference                                           \n",
       "4                                           Training                                           \n",
       "\n",
       "  Where do you run your ML models (include future plans)? [NERSC]  \\\n",
       "0                                Training, Inference                \n",
       "1                                Training, Inference                \n",
       "2                                Training, Inference                \n",
       "3                                Training, Inference                \n",
       "4                                                NaN                \n",
       "\n",
       "  Where do you run your ML models (include future plans)? [Other HPC center(s)]  \\\n",
       "0                                                NaN                              \n",
       "1                                                NaN                              \n",
       "2                                          Inference                              \n",
       "3                                Training, Inference                              \n",
       "4                                           Training                              \n",
       "\n",
       "  Where do you run your ML models (include future plans)? [University/Group cluster]  \\\n",
       "0                                          Inference                                   \n",
       "1                                                NaN                                   \n",
       "2                                                NaN                                   \n",
       "3                                                NaN                                   \n",
       "4                                                NaN                                   \n",
       "\n",
       "   ... How well does the ML software stack at NERSC satisfy your needs?  \\\n",
       "0  ...                                                6.0                 \n",
       "1  ...                                                7.0                 \n",
       "2  ...                                                NaN                 \n",
       "3  ...                                                5.0                 \n",
       "4  ...                                                6.0                 \n",
       "\n",
       "  How satisfied are you with NERSC's ML user support (documentation, help tickets, training events)?  \\\n",
       "0                                                7.0                                                   \n",
       "1                                                7.0                                                   \n",
       "2                                                NaN                                                   \n",
       "3                                                5.0                                                   \n",
       "4                                                5.0                                                   \n",
       "\n",
       "  For your ML workloads at NERSC, what are your biggest pain points? Please rate your level of concern or challenges with the following: [Installing/using software]  \\\n",
       "0                            No challenge or concern                                                                                                                   \n",
       "1                            No challenge or concern                                                                                                                   \n",
       "2                                                NaN                                                                                                                   \n",
       "3                               Somewhat challenging                                                                                                                   \n",
       "4                            No challenge or concern                                                                                                                   \n",
       "\n",
       "  For your ML workloads at NERSC, what are your biggest pain points? Please rate your level of concern or challenges with the following: [Application performance]  \\\n",
       "0                               Somewhat challenging                                                                                                                 \n",
       "1                               Somewhat challenging                                                                                                                 \n",
       "2                                                NaN                                                                                                                 \n",
       "3                               Somewhat challenging                                                                                                                 \n",
       "4                               Somewhat challenging                                                                                                                 \n",
       "\n",
       "  For your ML workloads at NERSC, what are your biggest pain points? Please rate your level of concern or challenges with the following: [Getting interactive resources for development/testing]  \\\n",
       "0                               Somewhat challenging                                                                                                                                               \n",
       "1                            No challenge or concern                                                                                                                                               \n",
       "2                                                NaN                                                                                                                                               \n",
       "3                                 Highly challenging                                                                                                                                               \n",
       "4                               Somewhat challenging                                                                                                                                               \n",
       "\n",
       "  For your ML workloads at NERSC, what are your biggest pain points? Please rate your level of concern or challenges with the following: [Submitting jobs]  \\\n",
       "0                            No challenge or concern                                                                                                         \n",
       "1                            No challenge or concern                                                                                                         \n",
       "2                                                NaN                                                                                                         \n",
       "3                               Somewhat challenging                                                                                                         \n",
       "4                            No challenge or concern                                                                                                         \n",
       "\n",
       "  For your ML workloads at NERSC, what are your biggest pain points? Please rate your level of concern or challenges with the following: [Getting jobs through the queues]  \\\n",
       "0                                 Highly challenging                                                                                                                         \n",
       "1                                 Highly challenging                                                                                                                         \n",
       "2                                                NaN                                                                                                                         \n",
       "3                                 Highly challenging                                                                                                                         \n",
       "4                               Somewhat challenging                                                                                                                         \n",
       "\n",
       "  Are there any other aspects of running your ML workload at NERSC that you find challenging?  \\\n",
       "0                                                NaN                                            \n",
       "1                                                NaN                                            \n",
       "2                                                NaN                                            \n",
       "3                                                NaN                                            \n",
       "4                                                NaN                                            \n",
       "\n",
       "  Do you have any other comments or suggestions to improve the suitability of NERSC resources for Machine Learning?  \\\n",
       "0                                                NaN                                                                  \n",
       "1                                                NaN                                                                  \n",
       "2                                                NaN                                                                  \n",
       "3                                                NaN                                                                  \n",
       "4                                                NaN                                                                  \n",
       "\n",
       "  Email (optional, so we can follow-up with you if relevant)  \n",
       "0                                                NaN          \n",
       "1                        shashanksubramanian@lbl.gov          \n",
       "2                                                NaN          \n",
       "3                                                NaN          \n",
       "4                                                NaN          \n",
       "\n",
       "[5 rows x 46 columns]"
      ]
     },
     "execution_count": 101,
     "metadata": {},
     "output_type": "execute_result"
    }
   ],
   "source": [
    "data.head()"
   ]
  },
  {
   "cell_type": "code",
   "execution_count": 102,
   "id": "63b5020e-8ea6-4dbc-9130-78422f5e44d2",
   "metadata": {},
   "outputs": [
    {
     "data": {
      "text/plain": [
       "0                                             Timestamp\n",
       "1     How do you rate your expertise in Machine Lear...\n",
       "2            What science domains are you using ML for?\n",
       "3     Any publications that you would like to share ...\n",
       "4                  What frameworks/tools are you using?\n",
       "5     What is your preferred environment for ML deve...\n",
       "6     Where do you run your ML models (include futur...\n",
       "7     Where do you run your ML models (include futur...\n",
       "8     Where do you run your ML models (include futur...\n",
       "9     Where do you run your ML models (include futur...\n",
       "10    Where do you run your ML models (include futur...\n",
       "11    Where do you run your ML models (include futur...\n",
       "12    What hardware do you run your models on (inclu...\n",
       "13    What hardware do you run your models on (inclu...\n",
       "14    What hardware do you run your models on (inclu...\n",
       "15    What hardware do you run your models on (inclu...\n",
       "16    What hardware do you run your models on (inclu...\n",
       "17    If you answered \"other\" on the above questions...\n",
       "18    How does ML fit into your scientific workflow(...\n",
       "19    What is the level of maturity of ML in your re...\n",
       "20                What types of ML tasks do you employ?\n",
       "21    What types of models are you using? (include c...\n",
       "22                       Do you use pre-trained models?\n",
       "23    Which hyperparameter optimization libraries ar...\n",
       "24    How long does (or would) it take to train your...\n",
       "25      Do you use or plan to use distributed training?\n",
       "26    Which (if any) distributed training libraries ...\n",
       "27    On how many devices do you typically train a m...\n",
       "28    Do you use any experiments monitoring/visualiz...\n",
       "29    Do you use any tools for ML performance profil...\n",
       "30    Where is your data acquired? (Choose all that ...\n",
       "31                  What is the structure of your data?\n",
       "32               What sizes are your training datasets?\n",
       "33                          How do you store your data?\n",
       "34          Which NERSC system(s) are you using for ML?\n",
       "35    What ML software installation setup do you use...\n",
       "36    How well does the ML software stack at NERSC s...\n",
       "37    How satisfied are you with NERSC's ML user sup...\n",
       "38    For your ML workloads at NERSC, what are your ...\n",
       "39    For your ML workloads at NERSC, what are your ...\n",
       "40    For your ML workloads at NERSC, what are your ...\n",
       "41    For your ML workloads at NERSC, what are your ...\n",
       "42    For your ML workloads at NERSC, what are your ...\n",
       "43    Are there any other aspects of running your ML...\n",
       "44    Do you have any other comments or suggestions ...\n",
       "45    Email (optional, so we can follow-up with you ...\n",
       "dtype: object"
      ]
     },
     "execution_count": 102,
     "metadata": {},
     "output_type": "execute_result"
    }
   ],
   "source": [
    "# View all the questions (columns) by index, for reference\n",
    "pd.Series(data.columns)"
   ]
  },
  {
   "cell_type": "markdown",
   "id": "4493fb7f-e882-49ea-8556-ef1a9638bd30",
   "metadata": {},
   "source": [
    "## How do you rate your experience in ML?"
   ]
  },
  {
   "cell_type": "code",
   "execution_count": 103,
   "id": "76ae0598-febe-47cf-868d-601e803b17f4",
   "metadata": {},
   "outputs": [
    {
     "data": {
      "image/png": "[encoded data removed]",
      "text/plain": [
       "<Figure size 648x432 with 1 Axes>"
      ]
     },
     "metadata": {
      "needs_background": "light"
     },
     "output_type": "display_data"
    }
   ],
   "source": [
    "plt.figure()\n",
    "plt.hist(data.iloc[:,1], bins=13, range=(0.75,7.25))\n",
    "plt.title('How do you rate your experience in ML?');"
   ]
  },
  {
   "cell_type": "markdown",
   "id": "d54165f6-f3a4-4909-adce-8470c381cb0d",
   "metadata": {},
   "source": [
    "## What science domains are you using ML for?"
   ]
  },
  {
   "cell_type": "code",
   "execution_count": 106,
   "id": "0a0803ce-1bac-49fe-8340-e1d6f294166c",
   "metadata": {},
   "outputs": [
    {
     "data": {
      "text/plain": [
       "I am currently not using ML in my research.     1\n",
       "Planetary science / space physics               1\n",
       "Computational Material                          1\n",
       "Oceanography                                    1\n",
       "Accelerator physics                             1\n",
       "Condensed Matter Physics                        1\n",
       "Renewable Energy                                1\n",
       "Robotics                                        1\n",
       "Materials science                               1\n",
       "TEST                                            1\n",
       "Materials Science                               6\n",
       "Fusion Energy Science                           7\n",
       "Medical                                         8\n",
       "Geosciences                                    10\n",
       "Nuclear Physics                                14\n",
       "Biosciences                                    23\n",
       "Engineering                                    24\n",
       "Applied Mathematics                            24\n",
       "Earth and Environmental Science                25\n",
       "Cosmology                                      25\n",
       "High Energy Physics                            29\n",
       "Chemistry                                      32\n",
       "Computer Science                               34\n",
       "Astrophysics                                   35\n",
       "Physics - General                              40\n",
       "Name: What science domains are you using ML for?, dtype: int64"
      ]
     },
     "execution_count": 106,
     "metadata": {},
     "output_type": "execute_result"
    }
   ],
   "source": [
    "# Select the appropriate column\n",
    "responses = data.iloc[:,2]\n",
    "\n",
    "# Split responses\n",
    "domains = split_multi_response(responses)\n",
    "\n",
    "# Get unique response counts\n",
    "domain_counts = domains.value_counts(ascending=True)\n",
    "domain_counts"
   ]
  },
  {
   "cell_type": "code",
   "execution_count": 113,
   "id": "597e1633-1c1c-4da2-86d0-d65f561654e1",
   "metadata": {},
   "outputs": [
    {
     "data": {
      "image/png": "[encoded data removed]",
      "text/plain": [
       "<Figure size 864x576 with 1 Axes>"
      ]
     },
     "metadata": {
      "needs_background": "light"
     },
     "output_type": "display_data"
    }
   ],
   "source": [
    "# Throw out rare responses\n",
    "domain_counts = domain_counts[domain_counts > 1]\n",
    "\n",
    "# Make the plot\n",
    "fig, ax = plt.subplots(figsize=(12,8))\n",
    "\n",
    "ax.barh(domain_counts.index, domain_counts, color=colors)\n",
    "ax.set_title('Science domains');"
   ]
  },
  {
   "cell_type": "markdown",
   "id": "9e2574e9-20f9-4aa3-a460-407a452811b7",
   "metadata": {},
   "source": [
    "## How does ML fit into your scientific workflow(s)?"
   ]
  },
  {
   "cell_type": "code",
   "execution_count": 114,
   "id": "702d95b7-2ac8-4ef3-b12b-bc6454f6eeb7",
   "metadata": {},
   "outputs": [
    {
     "data": {
      "text/plain": [
       "'How does ML fit into your scientific workflow(s)? (options are illustrative so please mark any that apply and feel free to add your own description, include future plans)'"
      ]
     },
     "execution_count": 114,
     "metadata": {},
     "output_type": "execute_result"
    }
   ],
   "source": [
    "data.columns[18]"
   ]
  },
  {
   "cell_type": "code",
   "execution_count": 115,
   "id": "178816e7-c55b-452d-9183-7e1709c5465c",
   "metadata": {},
   "outputs": [
    {
     "data": {
      "text/plain": [
       "ML for predictive and prescriptive experimentation                   1\n",
       "Typically it fits in poorly.                                         1\n",
       "ML for real time in situ data analytics of simulation output         1\n",
       "Research only                                                        1\n",
       "Using ML frameworks for faster simulations on GPUs/TPUs              1\n",
       "i dont know                                                          1\n",
       "I am currently not using ML in my research                           1\n",
       "ML for real-time control of scientific instrument                   13\n",
       "ML for real-time (\"online\") experimental data                       37\n",
       "Entire ML replacement of simulation                                 50\n",
       "Coupled ML+simulation (e.g. replacing DFT in a simulation loop)     81\n",
       "ML for offline data analysis                                       122\n",
       "Name: How does ML fit into your scientific workflow(s)? (options are illustrative so please mark any that apply and feel free to add your own description, include future plans), dtype: int64"
      ]
     },
     "execution_count": 115,
     "metadata": {},
     "output_type": "execute_result"
    }
   ],
   "source": [
    "responses = data.iloc[:,18]\n",
    "\n",
    "workflows = split_multi_response(responses)\n",
    "\n",
    "workflow_counts = workflows.value_counts(ascending=True)\n",
    "workflow_counts"
   ]
  },
  {
   "cell_type": "code",
   "execution_count": 122,
   "id": "2821c90e-cab6-4f4c-9751-5b0427344b48",
   "metadata": {},
   "outputs": [
    {
     "data": {
      "image/png": "[encoded data removed]",
      "text/plain": [
       "<Figure size 648x432 with 1 Axes>"
      ]
     },
     "metadata": {
      "needs_background": "light"
     },
     "output_type": "display_data"
    }
   ],
   "source": [
    "# Filter rare responses\n",
    "workflow_counts = workflow_counts[workflow_counts > 1]\n",
    "\n",
    "# Make the plot\n",
    "fig, ax = plt.subplots()\n",
    "\n",
    "ax.barh(workflow_counts.index, workflow_counts, color=colors[:len(workflow_counts)][::-1])\n",
    "ax.set_title('ML workflows');"
   ]
  },
  {
   "cell_type": "markdown",
   "id": "a246e1db-e376-4cad-8b99-25455f698f16",
   "metadata": {},
   "source": [
    "## What frameworks/tools are you using?"
   ]
  },
  {
   "cell_type": "code",
   "execution_count": 123,
   "id": "dddff277-4c1e-4dd2-b7eb-366921f3b361",
   "metadata": {},
   "outputs": [],
   "source": [
    "responses = data.iloc[:,4]\n",
    "frameworks = split_multi_response(responses)"
   ]
  },
  {
   "cell_type": "code",
   "execution_count": 124,
   "id": "5af4a27a-876b-463b-88cc-e6a09da4e22c",
   "metadata": {},
   "outputs": [],
   "source": [
    "# Data cleanup, merging\n",
    "frameworks[frameworks.str.contains('Flux')] = 'Flux'\n",
    "frameworks[frameworks.str.contains('jax|flax|haiku', case=False)] = 'JAX'\n",
    "frameworks[frameworks.str.contains('matlab', case=False)] = 'Matlab'"
   ]
  },
  {
   "cell_type": "code",
   "execution_count": 125,
   "id": "0de5d4c0-d76b-456a-a25e-7dbc0dba00c5",
   "metadata": {},
   "outputs": [
    {
     "data": {
      "text/plain": [
       "we use some customized codes.                                                                                   1\n",
       "dont know yet                                                                                                   1\n",
       "in-house developed code                                                                                         1\n",
       "VASP                                                                                                            1\n",
       "Haven't decided yet                                                                                             1\n",
       "I develop my own algorithms                                                                                     1\n",
       "TensorRT                                                                                                        1\n",
       "Onnxruntime                                                                                                     1\n",
       "RLlib                                                                                                           1\n",
       "Ray                                                                                                             1\n",
       "I'm still learning ML/DL techniques and currently in the process of comparing different Python frameworks.      1\n",
       "PyTorch Geometric                                                                                               1\n",
       "TMVA                                                                                                            1\n",
       "Megatron                                                                                                        1\n",
       "DeepSpeed                                                                                                       1\n",
       "weka                                                                                                            1\n",
       "Caffe                                                                                                           2\n",
       "Julia                                                                                                           2\n",
       "LBANN                                                                                                           3\n",
       "Matlab                                                                                                          3\n",
       "Flux                                                                                                            5\n",
       "R                                                                                                              14\n",
       "PyTorch Lightning                                                                                              15\n",
       "TensorFlow 1                                                                                                   21\n",
       "JAX                                                                                                            24\n",
       "Keras                                                                                                          57\n",
       "TensorFlow 2                                                                                                   70\n",
       "scikit-learn                                                                                                   91\n",
       "PyTorch                                                                                                       100\n",
       "Name: What frameworks/tools are you using?, dtype: int64"
      ]
     },
     "execution_count": 125,
     "metadata": {},
     "output_type": "execute_result"
    }
   ],
   "source": [
    "# Get unique response counts\n",
    "framework_counts = frameworks.value_counts(ascending=True)\n",
    "framework_counts"
   ]
  },
  {
   "cell_type": "code",
   "execution_count": 126,
   "id": "f9a047db-0946-4ee0-9e3a-4768ffb257c7",
   "metadata": {},
   "outputs": [
    {
     "data": {
      "image/png": "[encoded data removed]",
      "text/plain": [
       "<Figure size 648x432 with 1 Axes>"
      ]
     },
     "metadata": {
      "needs_background": "light"
     },
     "output_type": "display_data"
    }
   ],
   "source": [
    "# Filter out rare responses\n",
    "framework_counts = framework_counts[framework_counts > 1]\n",
    "\n",
    "# Make the plot\n",
    "fig, ax = plt.subplots()\n",
    "\n",
    "ax.barh(framework_counts.index, framework_counts, color=colors)\n",
    "ax.set_title('Frameworks');"
   ]
  },
  {
   "cell_type": "markdown",
   "id": "e5a7bc5a-f3be-4b29-80b4-c721db51cfce",
   "metadata": {},
   "source": [
    "## What types of ML tasks do you employ?"
   ]
  },
  {
   "cell_type": "code",
   "execution_count": 127,
   "id": "77a54f10-5f9b-49e4-9073-8d05cb1d5613",
   "metadata": {},
   "outputs": [
    {
     "data": {
      "text/plain": [
       "dense prediction for scientific data                                                                                                   1\n",
       "Language Modeling                                                                                                                      1\n",
       "Have not started yet. Need to learn first step.                                                                                        1\n",
       "At the moment we use machine learning technology to tease reaction mechanism and kinetics out of time resolved concentration data      1\n",
       "PINN                                                                                                                                   1\n",
       "None                                                                                                                                   1\n",
       "Reinforcement learning                                                                                                                25\n",
       "Segmentation / object detection                                                                                                       32\n",
       "Generative modeling                                                                                                                   54\n",
       "Unsupervised / self-supervised                                                                                                        88\n",
       "Classification                                                                                                                        96\n",
       "Regression                                                                                                                           123\n",
       "Name: What types of ML tasks do you employ?, dtype: int64"
      ]
     },
     "execution_count": 127,
     "metadata": {},
     "output_type": "execute_result"
    }
   ],
   "source": [
    "responses = data.iloc[:,20]\n",
    "tasks = split_multi_response(responses)\n",
    "tasks = tasks.str.replace('Unsupervised / self-supervised learning / clustering', 'Unsupervised / self-supervised')\n",
    "task_counts = tasks.value_counts(ascending=True)\n",
    "task_counts"
   ]
  },
  {
   "cell_type": "code",
   "execution_count": 129,
   "id": "6eb1396a-dbe5-4141-a428-1d7e2868627a",
   "metadata": {},
   "outputs": [
    {
     "data": {
      "image/png": "[encoded data removed]",
      "text/plain": [
       "<Figure size 648x432 with 1 Axes>"
      ]
     },
     "metadata": {
      "needs_background": "light"
     },
     "output_type": "display_data"
    }
   ],
   "source": [
    "# Filter rare responses\n",
    "task_counts = task_counts[task_counts > 1]\n",
    "\n",
    "# Make the plot\n",
    "fig, ax = plt.subplots()\n",
    "\n",
    "ax.barh(task_counts.index, task_counts, color=colors[:len(task_counts)][::-1])\n",
    "ax.set_title('ML tasks');"
   ]
  },
  {
   "cell_type": "markdown",
   "id": "ecf20bcc-fb1d-4bb2-b026-37eea653bb83",
   "metadata": {},
   "source": [
    "## What types of models are you using?"
   ]
  },
  {
   "cell_type": "code",
   "execution_count": 130,
   "id": "67dc3edb-1ef5-429c-a4e0-40928d8a1881",
   "metadata": {},
   "outputs": [],
   "source": [
    "responses = data.iloc[:,21]"
   ]
  },
  {
   "cell_type": "raw",
   "id": "217a098b-de58-4322-948b-e8994ef2ee78",
   "metadata": {},
   "source": [
    "responses[3]"
   ]
  },
  {
   "cell_type": "code",
   "execution_count": 131,
   "id": "05a0cd03-2ea1-46f5-bfc4-0edc38740865",
   "metadata": {},
   "outputs": [],
   "source": [
    "# Simplify responses before splitting (e.g. to remove commas)\n",
    "rename_map = {\n",
    "    'Traditional ML models (SVM, Random Forest, Decision Trees, Ensemble Methods, etc)': 'Traditional ML',\n",
    "    'Fully-connected / feed-forward Neural Networks (MLPs)': 'Fully-connected Neural Networks',\n",
    "    'Convolutional Neural Networks (CNNs)': 'Convolutional Neural Networks',\n",
    "    'Recurrent Neural Networks (RNNs, GRUs, LSTMs)': 'Recurrent Neural Networks',\n",
    "    'Attention models (e.g. Transformer, BERT, GPT)': 'Transformers',\n",
    "    'Graph or point-cloud Neural Networks': 'Graph/Point Neural Networks',\n",
    "}\n",
    "\n",
    "for k,v in rename_map.items():\n",
    "    responses = responses.str.replace(k, v, regex=False)"
   ]
  },
  {
   "cell_type": "code",
   "execution_count": 132,
   "id": "175fef9c-efd3-47ac-b5fa-474b3b41a794",
   "metadata": {},
   "outputs": [],
   "source": [
    "models = split_multi_response(responses)"
   ]
  },
  {
   "cell_type": "code",
   "execution_count": 133,
   "id": "3857c2c0-9184-4140-b889-eb91d5eb8e2e",
   "metadata": {},
   "outputs": [],
   "source": [
    "# Additional response cleanup\n",
    "models[models.str.contains('flow', case=False)] = 'Flow-based models'\n",
    "models[models.str.contains('gaussian|gpr', case=False)] = 'Gaussian Processes'"
   ]
  },
  {
   "cell_type": "code",
   "execution_count": 134,
   "id": "856a8e59-eab5-4b7f-a8c5-ba1aea72e0cf",
   "metadata": {},
   "outputs": [
    {
     "data": {
      "text/plain": [
       "None                                                 1\n",
       "cGAN                                                 1\n",
       "Bayesian methods                                     1\n",
       "Reservoir Methods                                    1\n",
       "BP                                                   1\n",
       "Not sure yet                                         1\n",
       "Variational AE                                       1\n",
       "Have not started yet. Need to learn first step.      1\n",
       "Bayesian Neural Networks                             1\n",
       "Hamiltonian Monte Carlo Markov Chains                1\n",
       "Custom architectures                                 1\n",
       "Flow-based models                                    3\n",
       "Gaussian Processes                                   4\n",
       "Transformers                                        36\n",
       "Graph/Point Neural Networks                         45\n",
       "Recurrent Neural Networks                           51\n",
       "Fully-connected Neural Networks                     89\n",
       "Traditional ML                                      97\n",
       "Convolutional Neural Networks                      108\n",
       "Name: What types of models are you using? (include current and future plans), dtype: int64"
      ]
     },
     "execution_count": 134,
     "metadata": {},
     "output_type": "execute_result"
    }
   ],
   "source": [
    "model_counts = models.value_counts(ascending=True)\n",
    "model_counts"
   ]
  },
  {
   "cell_type": "code",
   "execution_count": 136,
   "id": "b8e5897d-635e-416a-a7a5-59cf156fe92c",
   "metadata": {},
   "outputs": [
    {
     "data": {
      "image/png": "[encoded data removed]",
      "text/plain": [
       "<Figure size 648x432 with 1 Axes>"
      ]
     },
     "metadata": {
      "needs_background": "light"
     },
     "output_type": "display_data"
    }
   ],
   "source": [
    "# Filter rare responses\n",
    "model_counts = model_counts[model_counts > 1]\n",
    "\n",
    "# Make the plot\n",
    "fig, ax = plt.subplots()\n",
    "\n",
    "ax.barh(model_counts.index, model_counts, color=colors[:len(model_counts)][::-1])\n",
    "ax.set_title('Types of models');"
   ]
  },
  {
   "cell_type": "markdown",
   "id": "3c46cc1e-1f96-4dff-b017-91222e805d66",
   "metadata": {},
   "source": [
    "## HPO"
   ]
  },
  {
   "cell_type": "code",
   "execution_count": 137,
   "id": "d12c9189-0a18-4bae-8bac-8cdc4db337cc",
   "metadata": {},
   "outputs": [
    {
     "data": {
      "text/plain": [
       "'Which hyperparameter optimization libraries are you using, if any?'"
      ]
     },
     "execution_count": 137,
     "metadata": {},
     "output_type": "execute_result"
    }
   ],
   "source": [
    "data.columns[23]"
   ]
  },
  {
   "cell_type": "markdown",
   "id": "e047a2f4-f695-44a5-9f33-8f90d3af9221",
   "metadata": {},
   "source": [
    "## How long does (or would) it take to train your models on a single device?"
   ]
  },
  {
   "cell_type": "code",
   "execution_count": 138,
   "id": "90b60c5e-8b98-4153-a5b1-7deb6c47e1d0",
   "metadata": {},
   "outputs": [
    {
     "data": {
      "text/plain": [
       "'How long does (or would) it take to train your models on a single device?'"
      ]
     },
     "execution_count": 138,
     "metadata": {},
     "output_type": "execute_result"
    }
   ],
   "source": [
    "data.columns[24]"
   ]
  },
  {
   "cell_type": "code",
   "execution_count": 139,
   "id": "0e05d71a-32b5-4181-ba1b-c955c299d679",
   "metadata": {},
   "outputs": [],
   "source": [
    "responses = data.iloc[:,24]\n",
    "traintime = split_multi_response(responses)"
   ]
  },
  {
   "cell_type": "code",
   "execution_count": 140,
   "id": "0ba3a2fd-ea91-4b91-b2da-ccd85b337a4d",
   "metadata": {},
   "outputs": [
    {
     "data": {
      "text/plain": [
       "No real idea yet. Marked probable cases for a single gpu                       1\n",
       "Have not started yet. Need to learn first step. May take long time.            1\n",
       "Haven't reached that stage yet :/                                              1\n",
       "I have utilized more than 100 node-years of training time on HPC systems.      1\n",
       "Years                                                                          1\n",
       "Not sure yet                                                                   1\n",
       "unknown                                                                        1\n",
       "unsure- still in development                                                   1\n",
       "Months                                                                        11\n",
       "Weeks                                                                         25\n",
       "Minutes                                                                       47\n",
       "Days                                                                          70\n",
       "Hours                                                                        104\n",
       "Name: How long does (or would) it take to train your models on a single device?, dtype: int64"
      ]
     },
     "execution_count": 140,
     "metadata": {},
     "output_type": "execute_result"
    }
   ],
   "source": [
    "time_counts = traintime.value_counts(ascending=True)\n",
    "time_counts"
   ]
  },
  {
   "cell_type": "code",
   "execution_count": 142,
   "id": "72b8d576-988c-4a49-8e13-f813c8fdd3af",
   "metadata": {},
   "outputs": [
    {
     "data": {
      "image/png": "[encoded data removed]",
      "text/plain": [
       "<Figure size 648x432 with 1 Axes>"
      ]
     },
     "metadata": {
      "needs_background": "light"
     },
     "output_type": "display_data"
    }
   ],
   "source": [
    "time_x = ['Minutes', 'Hours', 'Days', 'Weeks', 'Months', 'Years']\n",
    "time_y = time_counts[time_x]\n",
    "\n",
    "# Make the plot\n",
    "fig, ax = plt.subplots()\n",
    "\n",
    "ax.bar(time_x, time_y, color=colors)\n",
    "ax.set_title('Training time on single device');"
   ]
  },
  {
   "cell_type": "markdown",
   "id": "20cb685f-8f3d-4c9d-84c4-c9e7a613381b",
   "metadata": {},
   "source": [
    "## Do you use or plan to use distributed training?"
   ]
  },
  {
   "cell_type": "code",
   "execution_count": 143,
   "id": "b71c9847-e03f-4bc4-a7ca-8ab143705a0d",
   "metadata": {},
   "outputs": [
    {
     "data": {
      "text/plain": [
       "'Do you use or plan to use distributed training?'"
      ]
     },
     "execution_count": 143,
     "metadata": {},
     "output_type": "execute_result"
    }
   ],
   "source": [
    "data.columns[25]"
   ]
  },
  {
   "cell_type": "code",
   "execution_count": 144,
   "id": "dc5d7130-469f-4a13-82c8-74e783141e5a",
   "metadata": {},
   "outputs": [
    {
     "data": {
      "text/plain": [
       "0                                       Data parallelism\n",
       "1      Data parallelism, Hybrid parallelism (combinat...\n",
       "2                                                    NaN\n",
       "3          Hybrid parallelism (combination of the above)\n",
       "4      Data parallelism, Model parallelism, Pipeline ...\n",
       "                             ...                        \n",
       "177    I don't need distributed training (single node...\n",
       "178                                    Model parallelism\n",
       "179                  Data parallelism, Model parallelism\n",
       "180              Model parallelism, Pipeline parallelism\n",
       "181        Hybrid parallelism (combination of the above)\n",
       "Name: Do you use or plan to use distributed training?, Length: 182, dtype: object"
      ]
     },
     "execution_count": 144,
     "metadata": {},
     "output_type": "execute_result"
    }
   ],
   "source": [
    "responses = data.iloc[:,25]\n",
    "responses"
   ]
  },
  {
   "cell_type": "code",
   "execution_count": 145,
   "id": "f960e4eb-ff52-4eab-bce4-fb49210d85e1",
   "metadata": {},
   "outputs": [],
   "source": [
    "distmodes = split_multi_response(responses)\n",
    "\n",
    "# Simplify some of the labels here\n",
    "distmodes = distmodes.str.replace(\n",
    "    'Hybrid parallelism (combination of the above)',\n",
    "    'Hybrid parallelism', regex=False)\n",
    "distmodes = distmodes.str.replace(\n",
    "    \"I don't need distributed training (single node or device is sufficient)\",\n",
    "    \"Not needed\", regex=False)"
   ]
  },
  {
   "cell_type": "code",
   "execution_count": 146,
   "id": "26522a34-928f-4b26-b64b-d0ba546f213e",
   "metadata": {},
   "outputs": [
    {
     "data": {
      "text/plain": [
       "We are not sure yet. Depends on further development                                                           1\n",
       "Have not started yet. Need to start plan. Need help.                                                          1\n",
       "Potentially some for of distributed training down the line                                                    1\n",
       "but nothing current or in the near future.                                                                    1\n",
       "Used MultiWorkerStrategy in TensorFlow once.                                                                  1\n",
       "Not thought seriously about it yet                                                                            1\n",
       "Very project dependent                                                                                        1\n",
       "moving towards more parallelism                                                                               1\n",
       "Data parallelism is something that we are considering to use downstream but we are not at that stage yet.     1\n",
       "I don't know                                                                                                  1\n",
       "Pipeline parallelism                                                                                         19\n",
       "Hybrid parallelism                                                                                           35\n",
       "Not needed                                                                                                   47\n",
       "Model parallelism                                                                                            51\n",
       "Data parallelism                                                                                             76\n",
       "Name: Do you use or plan to use distributed training?, dtype: int64"
      ]
     },
     "execution_count": 146,
     "metadata": {},
     "output_type": "execute_result"
    }
   ],
   "source": [
    "dist_counts = distmodes.value_counts(ascending=True)\n",
    "dist_counts"
   ]
  },
  {
   "cell_type": "code",
   "execution_count": 148,
   "id": "53ff29a5-d04f-4748-86fb-6bae0fa436d5",
   "metadata": {},
   "outputs": [
    {
     "data": {
      "image/png": "[encoded data removed]",
      "text/plain": [
       "<Figure size 648x432 with 1 Axes>"
      ]
     },
     "metadata": {
      "needs_background": "light"
     },
     "output_type": "display_data"
    }
   ],
   "source": [
    "# Filter rare responses\n",
    "dist_counts = dist_counts[dist_counts > 1]\n",
    "\n",
    "# Make the plot\n",
    "fig, ax = plt.subplots()\n",
    "\n",
    "ax.barh(dist_counts.index, dist_counts, color=colors[:len(dist_counts)][::-1])\n",
    "ax.set_title('Types of distributed training');"
   ]
  },
  {
   "cell_type": "markdown",
   "id": "59b22c44-2b20-403d-800b-0a45f19b08c6",
   "metadata": {},
   "source": [
    "## On how many devices do you typically train a model?"
   ]
  },
  {
   "cell_type": "code",
   "execution_count": 149,
   "id": "5250e219-2ca5-4e54-a974-b18c8045f4aa",
   "metadata": {},
   "outputs": [
    {
     "data": {
      "text/plain": [
       "'On how many devices do you typically train a model?'"
      ]
     },
     "execution_count": 149,
     "metadata": {},
     "output_type": "execute_result"
    }
   ],
   "source": [
    "data.columns[27]"
   ]
  },
  {
   "cell_type": "code",
   "execution_count": 150,
   "id": "830fafa7-458a-43c2-af99-ea8ee5ee10ad",
   "metadata": {},
   "outputs": [
    {
     "data": {
      "text/plain": [
       "Single    103\n",
       "2-8        66\n",
       "10s        28\n",
       "100s       14\n",
       "1000s       4\n",
       "Name: On how many devices do you typically train a model?, dtype: int64"
      ]
     },
     "execution_count": 150,
     "metadata": {},
     "output_type": "execute_result"
    }
   ],
   "source": [
    "responses = data.iloc[:,27]\n",
    "trainscale = split_multi_response(responses)\n",
    "trainscale_counts = trainscale.value_counts(ascending=False)\n",
    "trainscale_counts"
   ]
  },
  {
   "cell_type": "code",
   "execution_count": 151,
   "id": "3c9be1f0-963c-4847-ac3f-cbad4a63f80e",
   "metadata": {},
   "outputs": [
    {
     "data": {
      "image/png": "[encoded data removed]",
      "text/plain": [
       "<Figure size 648x432 with 1 Axes>"
      ]
     },
     "metadata": {
      "needs_background": "light"
     },
     "output_type": "display_data"
    }
   ],
   "source": [
    "# Make the plot\n",
    "fig, ax = plt.subplots()\n",
    "\n",
    "ax.bar(trainscale_counts.index, trainscale_counts, color=colors)\n",
    "ax.set_title('On how many devices do you train a model?');"
   ]
  },
  {
   "cell_type": "markdown",
   "id": "ccaa36c9-10d5-4385-8242-5a4925bb9456",
   "metadata": {},
   "source": [
    "## What sizes are your training datasets?"
   ]
  },
  {
   "cell_type": "code",
   "execution_count": 152,
   "id": "3fc1d5d9-5f78-4965-a224-4cab25725044",
   "metadata": {},
   "outputs": [
    {
     "data": {
      "text/plain": [
       "'What sizes are your training datasets?'"
      ]
     },
     "execution_count": 152,
     "metadata": {},
     "output_type": "execute_result"
    }
   ],
   "source": [
    "data.columns[32]"
   ]
  },
  {
   "cell_type": "code",
   "execution_count": 184,
   "id": "508751fb-81a0-43dc-8654-bc9f37824b77",
   "metadata": {},
   "outputs": [
    {
     "data": {
      "text/plain": [
       "0       Up to 10 GB\n",
       "0         10s of GB\n",
       "1           1-10 TB\n",
       "2      1 GB or less\n",
       "3        100s of GB\n",
       "           ...     \n",
       "178    1 GB or less\n",
       "179     Up to 10 GB\n",
       "180     Up to 10 GB\n",
       "181     Up to 10 GB\n",
       "181       10s of GB\n",
       "Name: What sizes are your training datasets?, Length: 285, dtype: object"
      ]
     },
     "execution_count": 184,
     "metadata": {},
     "output_type": "execute_result"
    }
   ],
   "source": [
    "responses = data.iloc[:,32]\n",
    "datasizes = split_multi_response(responses)\n",
    "datasizes"
   ]
  },
  {
   "cell_type": "code",
   "execution_count": 185,
   "id": "19a5dac0-3ebf-4c6f-9b4c-aad1ad284665",
   "metadata": {},
   "outputs": [],
   "source": [
    "datasize_counts = datasizes.value_counts()"
   ]
  },
  {
   "cell_type": "code",
   "execution_count": 158,
   "id": "c3f0e64a-79be-4e41-abd6-94e5ad301116",
   "metadata": {},
   "outputs": [
    {
     "data": {
      "text/plain": [
       "Index(['Up to 10 GB', '1 GB or less', '10s of GB', '100s of GB', '1-10 TB',\n",
       "       '10s of TB', '>100 TB', 'No',\n",
       "       'not yet. Not started. Most likely very small.',\n",
       "       'Often online or self-training because of data volumes'],\n",
       "      dtype='object')"
      ]
     },
     "execution_count": 158,
     "metadata": {},
     "output_type": "execute_result"
    }
   ],
   "source": [
    "datasize_counts.index"
   ]
  },
  {
   "cell_type": "code",
   "execution_count": 191,
   "id": "25c8c09b-783a-4fc6-805d-fb989bd0ecfb",
   "metadata": {},
   "outputs": [
    {
     "data": {
      "image/png": "[encoded data removed]",
      "text/plain": [
       "<Figure size 1152x720 with 1 Axes>"
      ]
     },
     "metadata": {
      "needs_background": "light"
     },
     "output_type": "display_data"
    }
   ],
   "source": [
    "datasize_x = ['1 GB or less', 'Up to 10 GB', '10s of GB',\n",
    "              '100s of GB', '1-10 TB', '10s of TB', '>100 TB']\n",
    "datasize_y = datasize_counts[datasize_x]\n",
    "\n",
    "# Make the plot\n",
    "fig, ax = plt.subplots(figsize=(16, 10))\n",
    "\n",
    "ax.bar(datasize_x, datasize_y, color=colors, )\n",
    "ax.set_title('Size of training dataset');"
   ]
  },
  {
   "cell_type": "markdown",
   "id": "10ce6002-9312-4f24-84ba-a8424a28af41",
   "metadata": {},
   "source": [
    "## Investigating satisfaction with ML user support\n",
    "\n",
    "Looking into the spike of responses to our user support satisfaction question at 4 (out of 7)."
   ]
  },
  {
   "cell_type": "code",
   "execution_count": 192,
   "id": "407c3e5b-178e-4342-8f1d-9b2a5463c120",
   "metadata": {},
   "outputs": [
    {
     "data": {
      "text/plain": [
       "\"How satisfied are you with NERSC's ML user support (documentation, help tickets, training events)?\""
      ]
     },
     "execution_count": 192,
     "metadata": {},
     "output_type": "execute_result"
    }
   ],
   "source": [
    "data.columns[37]"
   ]
  },
  {
   "cell_type": "code",
   "execution_count": 193,
   "id": "fa7827a8-0e5e-4950-8765-f359d41ddceb",
   "metadata": {},
   "outputs": [],
   "source": [
    "# Pull responses to that question\n",
    "responses = data.iloc[:,37].fillna(0).astype(int)\n",
    "\n",
    "# Pick out all survey responses that answered '4' to that question\n",
    "x = data[responses == 4]"
   ]
  },
  {
   "cell_type": "raw",
   "id": "33d5d04c-95d4-437e-bf4a-fa562fbfed66",
   "metadata": {},
   "source": [
    "x.loc[60]"
   ]
  },
  {
   "cell_type": "code",
   "execution_count": null,
   "id": "6f984451-a3e8-4dd5-96aa-c2db44653e6a",
   "metadata": {},
   "outputs": [],
   "source": []
  }
 ],
 "metadata": {
  "kernelspec": {
   "display_name": "NERSC Python",
   "language": "python",
   "name": "python3"
  },
  "language_info": {
   "codemirror_mode": {
    "name": "ipython",
    "version": 3
   },
   "file_extension": ".py",
   "mimetype": "text/x-python",
   "name": "python",
   "nbconvert_exporter": "python",
   "pygments_lexer": "ipython3",
   "version": "3.9.7"
  }
 },
 "nbformat": 4,
 "nbformat_minor": 5
}
