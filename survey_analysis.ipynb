{
 "cells": [
  {
   "cell_type": "markdown",
   "id": "a9855240-dfd3-4d13-942d-07be025ec810",
   "metadata": {},
   "source": [
    "# ML@NERSC Survey Analysis\n",
    "\n",
    "This notebook contains the plotting code for the ML@NERSC survey results.\n",
    "\n",
    "To get started, download the responses spreadsheet as a tab-separated file (TSV) and put it in this directory.\n",
    "\n",
    "ML@NERSC 2022 responses: https://docs.google.com/spreadsheets/d/1U6wNudHEaOquwzEF7ePONncIzXBmJpcbDNZoDo3sYtU/edit?usp=sharing"
   ]
  },
  {
   "cell_type": "code",
   "execution_count": 1,
   "id": "92f34607-2aca-466b-b40e-24d4a8061006",
   "metadata": {},
   "outputs": [],
   "source": [
    "import pandas as pd\n",
    "\n",
    "import matplotlib.pyplot as plt"
   ]
  },
  {
   "cell_type": "markdown",
   "id": "c0a198b6-275f-4fd4-9152-d172d7c291bd",
   "metadata": {},
   "source": [
    "## Load the data"
   ]
  },
  {
   "cell_type": "code",
   "execution_count": 2,
   "id": "afb646ce-cdc4-4d39-a29c-51ea3f247df1",
   "metadata": {},
   "outputs": [],
   "source": [
    "data = pd.read_csv('ML@NERSC User Survey 2022 (Responses) - Form Responses 1.tsv', sep='\\t')"
   ]
  },
  {
   "cell_type": "code",
   "execution_count": 3,
   "id": "7a3e4351-2a21-4f88-b60d-03e6be5c9736",
   "metadata": {},
   "outputs": [
    {
     "data": {
      "text/html": [
       "<div>\n",
       "<style scoped>\n",
       "    .dataframe tbody tr th:only-of-type {\n",
       "        vertical-align: middle;\n",
       "    }\n",
       "\n",
       "    .dataframe tbody tr th {\n",
       "        vertical-align: top;\n",
       "    }\n",
       "\n",
       "    .dataframe thead th {\n",
       "        text-align: right;\n",
       "    }\n",
       "</style>\n",
       "<table border=\"1\" class=\"dataframe\">\n",
       "  <thead>\n",
       "    <tr style=\"text-align: right;\">\n",
       "      <th></th>\n",
       "      <th>Timestamp</th>\n",
       "      <th>How do you rate your expertise in Machine Learning?</th>\n",
       "      <th>What science domains are you using ML for?</th>\n",
       "      <th>Any publications that you would like to share with us</th>\n",
       "      <th>What frameworks/tools are you using?</th>\n",
       "      <th>What is your preferred environment for ML development?</th>\n",
       "      <th>Where do you run your ML models (include future plans)? [My own laptop or development box]</th>\n",
       "      <th>Where do you run your ML models (include future plans)? [NERSC]</th>\n",
       "      <th>Where do you run your ML models (include future plans)? [Other HPC center(s)]</th>\n",
       "      <th>Where do you run your ML models (include future plans)? [University/Group cluster]</th>\n",
       "      <th>...</th>\n",
       "      <th>How well does the ML software stack at NERSC satisfy your needs?</th>\n",
       "      <th>How satisfied are you with NERSC's ML user support (documentation, help tickets, training events)?</th>\n",
       "      <th>For your ML workloads at NERSC, what are your biggest pain points? Please rate your level of concern or challenges with the following: [Installing/using software]</th>\n",
       "      <th>For your ML workloads at NERSC, what are your biggest pain points? Please rate your level of concern or challenges with the following: [Application performance]</th>\n",
       "      <th>For your ML workloads at NERSC, what are your biggest pain points? Please rate your level of concern or challenges with the following: [Getting interactive resources for development/testing]</th>\n",
       "      <th>For your ML workloads at NERSC, what are your biggest pain points? Please rate your level of concern or challenges with the following: [Submitting jobs]</th>\n",
       "      <th>For your ML workloads at NERSC, what are your biggest pain points? Please rate your level of concern or challenges with the following: [Getting jobs through the queues]</th>\n",
       "      <th>Are there any other aspects of running your ML workload at NERSC that you find challenging?</th>\n",
       "      <th>Do you have any other comments or suggestions to improve the suitability of NERSC resources for Machine Learning?</th>\n",
       "      <th>Email (optional, so we can follow-up with you if relevant)</th>\n",
       "    </tr>\n",
       "  </thead>\n",
       "  <tbody>\n",
       "    <tr>\n",
       "      <th>0</th>\n",
       "      <td>4/8/2022 17:08:58</td>\n",
       "      <td>5.0</td>\n",
       "      <td>High Energy Physics</td>\n",
       "      <td>NaN</td>\n",
       "      <td>TensorFlow 1, TensorFlow 2, Keras</td>\n",
       "      <td>IDEs / text editors and scripts</td>\n",
       "      <td>NaN</td>\n",
       "      <td>Training, Inference</td>\n",
       "      <td>NaN</td>\n",
       "      <td>Inference</td>\n",
       "      <td>...</td>\n",
       "      <td>6.0</td>\n",
       "      <td>7.0</td>\n",
       "      <td>No challenge or concern</td>\n",
       "      <td>Somewhat challenging</td>\n",
       "      <td>Somewhat challenging</td>\n",
       "      <td>No challenge or concern</td>\n",
       "      <td>Highly challenging</td>\n",
       "      <td>NaN</td>\n",
       "      <td>NaN</td>\n",
       "      <td>NaN</td>\n",
       "    </tr>\n",
       "    <tr>\n",
       "      <th>1</th>\n",
       "      <td>4/8/2022 17:36:26</td>\n",
       "      <td>5.0</td>\n",
       "      <td>Applied Mathematics</td>\n",
       "      <td>https://arxiv.org/abs/2202.11214</td>\n",
       "      <td>PyTorch, scikit-learn</td>\n",
       "      <td>IDEs / text editors and scripts</td>\n",
       "      <td>NaN</td>\n",
       "      <td>Training, Inference</td>\n",
       "      <td>NaN</td>\n",
       "      <td>NaN</td>\n",
       "      <td>...</td>\n",
       "      <td>7.0</td>\n",
       "      <td>7.0</td>\n",
       "      <td>No challenge or concern</td>\n",
       "      <td>Somewhat challenging</td>\n",
       "      <td>No challenge or concern</td>\n",
       "      <td>No challenge or concern</td>\n",
       "      <td>Highly challenging</td>\n",
       "      <td>NaN</td>\n",
       "      <td>NaN</td>\n",
       "      <td>shashanksubramanian@lbl.gov</td>\n",
       "    </tr>\n",
       "    <tr>\n",
       "      <th>2</th>\n",
       "      <td>5/9/2022 16:40:25</td>\n",
       "      <td>1.0</td>\n",
       "      <td>Astrophysics</td>\n",
       "      <td>NaN</td>\n",
       "      <td>NaN</td>\n",
       "      <td>NaN</td>\n",
       "      <td>Inference</td>\n",
       "      <td>Training, Inference</td>\n",
       "      <td>Inference</td>\n",
       "      <td>NaN</td>\n",
       "      <td>...</td>\n",
       "      <td>NaN</td>\n",
       "      <td>NaN</td>\n",
       "      <td>NaN</td>\n",
       "      <td>NaN</td>\n",
       "      <td>NaN</td>\n",
       "      <td>NaN</td>\n",
       "      <td>NaN</td>\n",
       "      <td>NaN</td>\n",
       "      <td>NaN</td>\n",
       "      <td>NaN</td>\n",
       "    </tr>\n",
       "    <tr>\n",
       "      <th>3</th>\n",
       "      <td>5/9/2022 16:55:58</td>\n",
       "      <td>6.0</td>\n",
       "      <td>Biosciences, Earth and Environmental Science, ...</td>\n",
       "      <td>NaN</td>\n",
       "      <td>PyTorch, scikit-learn, weka</td>\n",
       "      <td>Notebooks (Jupyter or Colab)</td>\n",
       "      <td>Training, Inference</td>\n",
       "      <td>Training, Inference</td>\n",
       "      <td>Training, Inference</td>\n",
       "      <td>NaN</td>\n",
       "      <td>...</td>\n",
       "      <td>5.0</td>\n",
       "      <td>5.0</td>\n",
       "      <td>Somewhat challenging</td>\n",
       "      <td>Somewhat challenging</td>\n",
       "      <td>Highly challenging</td>\n",
       "      <td>Somewhat challenging</td>\n",
       "      <td>Highly challenging</td>\n",
       "      <td>NaN</td>\n",
       "      <td>NaN</td>\n",
       "      <td>NaN</td>\n",
       "    </tr>\n",
       "    <tr>\n",
       "      <th>4</th>\n",
       "      <td>5/10/2022 4:36:49</td>\n",
       "      <td>5.0</td>\n",
       "      <td>Chemistry, Computer Science, Physics - General</td>\n",
       "      <td>NaN</td>\n",
       "      <td>TensorFlow 2, PyTorch, JAX</td>\n",
       "      <td>IDEs / text editors and scripts</td>\n",
       "      <td>Training</td>\n",
       "      <td>NaN</td>\n",
       "      <td>Training</td>\n",
       "      <td>NaN</td>\n",
       "      <td>...</td>\n",
       "      <td>6.0</td>\n",
       "      <td>5.0</td>\n",
       "      <td>No challenge or concern</td>\n",
       "      <td>Somewhat challenging</td>\n",
       "      <td>Somewhat challenging</td>\n",
       "      <td>No challenge or concern</td>\n",
       "      <td>Somewhat challenging</td>\n",
       "      <td>NaN</td>\n",
       "      <td>NaN</td>\n",
       "      <td>NaN</td>\n",
       "    </tr>\n",
       "    <tr>\n",
       "      <th>...</th>\n",
       "      <td>...</td>\n",
       "      <td>...</td>\n",
       "      <td>...</td>\n",
       "      <td>...</td>\n",
       "      <td>...</td>\n",
       "      <td>...</td>\n",
       "      <td>...</td>\n",
       "      <td>...</td>\n",
       "      <td>...</td>\n",
       "      <td>...</td>\n",
       "      <td>...</td>\n",
       "      <td>...</td>\n",
       "      <td>...</td>\n",
       "      <td>...</td>\n",
       "      <td>...</td>\n",
       "      <td>...</td>\n",
       "      <td>...</td>\n",
       "      <td>...</td>\n",
       "      <td>...</td>\n",
       "      <td>...</td>\n",
       "      <td>...</td>\n",
       "    </tr>\n",
       "    <tr>\n",
       "      <th>169</th>\n",
       "      <td>6/16/2022 9:50:30</td>\n",
       "      <td>3.0</td>\n",
       "      <td>Astrophysics, Computer Science, High Energy Ph...</td>\n",
       "      <td>NaN</td>\n",
       "      <td>PyTorch</td>\n",
       "      <td>IDEs / text editors and scripts</td>\n",
       "      <td>Training, Inference</td>\n",
       "      <td>Training, Inference</td>\n",
       "      <td>NaN</td>\n",
       "      <td>NaN</td>\n",
       "      <td>...</td>\n",
       "      <td>3.0</td>\n",
       "      <td>3.0</td>\n",
       "      <td>No challenge or concern</td>\n",
       "      <td>Somewhat challenging</td>\n",
       "      <td>Somewhat challenging</td>\n",
       "      <td>Somewhat challenging</td>\n",
       "      <td>Highly challenging</td>\n",
       "      <td>I'm not sure if ipynb are suitable for nersc j...</td>\n",
       "      <td>NaN</td>\n",
       "      <td>NaN</td>\n",
       "    </tr>\n",
       "    <tr>\n",
       "      <th>170</th>\n",
       "      <td>6/16/2022 12:10:07</td>\n",
       "      <td>5.0</td>\n",
       "      <td>Chemistry</td>\n",
       "      <td>DOI: 10.1039/D2CY00284A</td>\n",
       "      <td>scikit-learn</td>\n",
       "      <td>IDEs / text editors and scripts</td>\n",
       "      <td>Training, Inference</td>\n",
       "      <td>NaN</td>\n",
       "      <td>NaN</td>\n",
       "      <td>NaN</td>\n",
       "      <td>...</td>\n",
       "      <td>NaN</td>\n",
       "      <td>NaN</td>\n",
       "      <td>NaN</td>\n",
       "      <td>NaN</td>\n",
       "      <td>NaN</td>\n",
       "      <td>NaN</td>\n",
       "      <td>NaN</td>\n",
       "      <td>NaN</td>\n",
       "      <td>NaN</td>\n",
       "      <td>NaN</td>\n",
       "    </tr>\n",
       "    <tr>\n",
       "      <th>171</th>\n",
       "      <td>6/16/2022 19:32:50</td>\n",
       "      <td>5.0</td>\n",
       "      <td>Materials Science</td>\n",
       "      <td>NaN</td>\n",
       "      <td>TensorFlow 2, Keras, PyTorch</td>\n",
       "      <td>IDEs / text editors and scripts</td>\n",
       "      <td>Training, Inference</td>\n",
       "      <td>Training, Inference</td>\n",
       "      <td>Training, Inference</td>\n",
       "      <td>Training, Inference</td>\n",
       "      <td>...</td>\n",
       "      <td>NaN</td>\n",
       "      <td>NaN</td>\n",
       "      <td>NaN</td>\n",
       "      <td>NaN</td>\n",
       "      <td>NaN</td>\n",
       "      <td>NaN</td>\n",
       "      <td>NaN</td>\n",
       "      <td>NaN</td>\n",
       "      <td>NaN</td>\n",
       "      <td>NaN</td>\n",
       "    </tr>\n",
       "    <tr>\n",
       "      <th>172</th>\n",
       "      <td>6/17/2022 7:24:55</td>\n",
       "      <td>5.0</td>\n",
       "      <td>Astrophysics</td>\n",
       "      <td>NaN</td>\n",
       "      <td>TensorFlow 2, Keras, scikit-learn</td>\n",
       "      <td>Notebooks (Jupyter or Colab)</td>\n",
       "      <td>NaN</td>\n",
       "      <td>Training, Inference</td>\n",
       "      <td>NaN</td>\n",
       "      <td>Training, Inference</td>\n",
       "      <td>...</td>\n",
       "      <td>6.0</td>\n",
       "      <td>6.0</td>\n",
       "      <td>No challenge or concern</td>\n",
       "      <td>No challenge or concern</td>\n",
       "      <td>Somewhat challenging</td>\n",
       "      <td>Somewhat challenging</td>\n",
       "      <td>Somewhat challenging</td>\n",
       "      <td>NaN</td>\n",
       "      <td>NaN</td>\n",
       "      <td>NaN</td>\n",
       "    </tr>\n",
       "    <tr>\n",
       "      <th>173</th>\n",
       "      <td>6/20/2022 2:20:19</td>\n",
       "      <td>4.0</td>\n",
       "      <td>I am currently not using ML in my research.</td>\n",
       "      <td>NaN</td>\n",
       "      <td>TensorFlow 1, Keras</td>\n",
       "      <td>IDEs / text editors and scripts</td>\n",
       "      <td>Training, Inference</td>\n",
       "      <td>NaN</td>\n",
       "      <td>NaN</td>\n",
       "      <td>NaN</td>\n",
       "      <td>...</td>\n",
       "      <td>NaN</td>\n",
       "      <td>NaN</td>\n",
       "      <td>NaN</td>\n",
       "      <td>NaN</td>\n",
       "      <td>NaN</td>\n",
       "      <td>NaN</td>\n",
       "      <td>NaN</td>\n",
       "      <td>NaN</td>\n",
       "      <td>NaN</td>\n",
       "      <td>NaN</td>\n",
       "    </tr>\n",
       "  </tbody>\n",
       "</table>\n",
       "<p>174 rows × 46 columns</p>\n",
       "</div>"
      ],
      "text/plain": [
       "              Timestamp  How do you rate your expertise in Machine Learning?  \\\n",
       "0     4/8/2022 17:08:58                                                5.0     \n",
       "1     4/8/2022 17:36:26                                                5.0     \n",
       "2     5/9/2022 16:40:25                                                1.0     \n",
       "3     5/9/2022 16:55:58                                                6.0     \n",
       "4     5/10/2022 4:36:49                                                5.0     \n",
       "..                  ...                                                ...     \n",
       "169   6/16/2022 9:50:30                                                3.0     \n",
       "170  6/16/2022 12:10:07                                                5.0     \n",
       "171  6/16/2022 19:32:50                                                5.0     \n",
       "172   6/17/2022 7:24:55                                                5.0     \n",
       "173   6/20/2022 2:20:19                                                4.0     \n",
       "\n",
       "            What science domains are you using ML for?  \\\n",
       "0                                  High Energy Physics   \n",
       "1                                  Applied Mathematics   \n",
       "2                                         Astrophysics   \n",
       "3    Biosciences, Earth and Environmental Science, ...   \n",
       "4       Chemistry, Computer Science, Physics - General   \n",
       "..                                                 ...   \n",
       "169  Astrophysics, Computer Science, High Energy Ph...   \n",
       "170                                          Chemistry   \n",
       "171                                  Materials Science   \n",
       "172                                       Astrophysics   \n",
       "173        I am currently not using ML in my research.   \n",
       "\n",
       "    Any publications that you would like to share with us  \\\n",
       "0                                                  NaN      \n",
       "1                     https://arxiv.org/abs/2202.11214      \n",
       "2                                                  NaN      \n",
       "3                                                  NaN      \n",
       "4                                                  NaN      \n",
       "..                                                 ...      \n",
       "169                                                NaN      \n",
       "170                           DOI: 10.1039/D2CY00284A       \n",
       "171                                                NaN      \n",
       "172                                                NaN      \n",
       "173                                                NaN      \n",
       "\n",
       "    What frameworks/tools are you using?  \\\n",
       "0      TensorFlow 1, TensorFlow 2, Keras   \n",
       "1                  PyTorch, scikit-learn   \n",
       "2                                    NaN   \n",
       "3            PyTorch, scikit-learn, weka   \n",
       "4             TensorFlow 2, PyTorch, JAX   \n",
       "..                                   ...   \n",
       "169                              PyTorch   \n",
       "170                         scikit-learn   \n",
       "171         TensorFlow 2, Keras, PyTorch   \n",
       "172    TensorFlow 2, Keras, scikit-learn   \n",
       "173                  TensorFlow 1, Keras   \n",
       "\n",
       "    What is your preferred environment for ML development?  \\\n",
       "0                      IDEs / text editors and scripts       \n",
       "1                      IDEs / text editors and scripts       \n",
       "2                                                  NaN       \n",
       "3                         Notebooks (Jupyter or Colab)       \n",
       "4                      IDEs / text editors and scripts       \n",
       "..                                                 ...       \n",
       "169                    IDEs / text editors and scripts       \n",
       "170                    IDEs / text editors and scripts       \n",
       "171                    IDEs / text editors and scripts       \n",
       "172                       Notebooks (Jupyter or Colab)       \n",
       "173                    IDEs / text editors and scripts       \n",
       "\n",
       "    Where do you run your ML models (include future plans)? [My own laptop or development box]  \\\n",
       "0                                                  NaN                                           \n",
       "1                                                  NaN                                           \n",
       "2                                            Inference                                           \n",
       "3                                  Training, Inference                                           \n",
       "4                                             Training                                           \n",
       "..                                                 ...                                           \n",
       "169                                Training, Inference                                           \n",
       "170                                Training, Inference                                           \n",
       "171                                Training, Inference                                           \n",
       "172                                                NaN                                           \n",
       "173                                Training, Inference                                           \n",
       "\n",
       "    Where do you run your ML models (include future plans)? [NERSC]  \\\n",
       "0                                  Training, Inference                \n",
       "1                                  Training, Inference                \n",
       "2                                  Training, Inference                \n",
       "3                                  Training, Inference                \n",
       "4                                                  NaN                \n",
       "..                                                 ...                \n",
       "169                                Training, Inference                \n",
       "170                                                NaN                \n",
       "171                                Training, Inference                \n",
       "172                                Training, Inference                \n",
       "173                                                NaN                \n",
       "\n",
       "    Where do you run your ML models (include future plans)? [Other HPC center(s)]  \\\n",
       "0                                                  NaN                              \n",
       "1                                                  NaN                              \n",
       "2                                            Inference                              \n",
       "3                                  Training, Inference                              \n",
       "4                                             Training                              \n",
       "..                                                 ...                              \n",
       "169                                                NaN                              \n",
       "170                                                NaN                              \n",
       "171                                Training, Inference                              \n",
       "172                                                NaN                              \n",
       "173                                                NaN                              \n",
       "\n",
       "    Where do you run your ML models (include future plans)? [University/Group cluster]  \\\n",
       "0                                            Inference                                   \n",
       "1                                                  NaN                                   \n",
       "2                                                  NaN                                   \n",
       "3                                                  NaN                                   \n",
       "4                                                  NaN                                   \n",
       "..                                                 ...                                   \n",
       "169                                                NaN                                   \n",
       "170                                                NaN                                   \n",
       "171                                Training, Inference                                   \n",
       "172                                Training, Inference                                   \n",
       "173                                                NaN                                   \n",
       "\n",
       "     ... How well does the ML software stack at NERSC satisfy your needs?  \\\n",
       "0    ...                                                6.0                 \n",
       "1    ...                                                7.0                 \n",
       "2    ...                                                NaN                 \n",
       "3    ...                                                5.0                 \n",
       "4    ...                                                6.0                 \n",
       "..   ...                                                ...                 \n",
       "169  ...                                                3.0                 \n",
       "170  ...                                                NaN                 \n",
       "171  ...                                                NaN                 \n",
       "172  ...                                                6.0                 \n",
       "173  ...                                                NaN                 \n",
       "\n",
       "    How satisfied are you with NERSC's ML user support (documentation, help tickets, training events)?  \\\n",
       "0                                                  7.0                                                   \n",
       "1                                                  7.0                                                   \n",
       "2                                                  NaN                                                   \n",
       "3                                                  5.0                                                   \n",
       "4                                                  5.0                                                   \n",
       "..                                                 ...                                                   \n",
       "169                                                3.0                                                   \n",
       "170                                                NaN                                                   \n",
       "171                                                NaN                                                   \n",
       "172                                                6.0                                                   \n",
       "173                                                NaN                                                   \n",
       "\n",
       "    For your ML workloads at NERSC, what are your biggest pain points? Please rate your level of concern or challenges with the following: [Installing/using software]  \\\n",
       "0                              No challenge or concern                                                                                                                   \n",
       "1                              No challenge or concern                                                                                                                   \n",
       "2                                                  NaN                                                                                                                   \n",
       "3                                 Somewhat challenging                                                                                                                   \n",
       "4                              No challenge or concern                                                                                                                   \n",
       "..                                                 ...                                                                                                                   \n",
       "169                            No challenge or concern                                                                                                                   \n",
       "170                                                NaN                                                                                                                   \n",
       "171                                                NaN                                                                                                                   \n",
       "172                            No challenge or concern                                                                                                                   \n",
       "173                                                NaN                                                                                                                   \n",
       "\n",
       "    For your ML workloads at NERSC, what are your biggest pain points? Please rate your level of concern or challenges with the following: [Application performance]  \\\n",
       "0                                 Somewhat challenging                                                                                                                 \n",
       "1                                 Somewhat challenging                                                                                                                 \n",
       "2                                                  NaN                                                                                                                 \n",
       "3                                 Somewhat challenging                                                                                                                 \n",
       "4                                 Somewhat challenging                                                                                                                 \n",
       "..                                                 ...                                                                                                                 \n",
       "169                               Somewhat challenging                                                                                                                 \n",
       "170                                                NaN                                                                                                                 \n",
       "171                                                NaN                                                                                                                 \n",
       "172                            No challenge or concern                                                                                                                 \n",
       "173                                                NaN                                                                                                                 \n",
       "\n",
       "    For your ML workloads at NERSC, what are your biggest pain points? Please rate your level of concern or challenges with the following: [Getting interactive resources for development/testing]  \\\n",
       "0                                 Somewhat challenging                                                                                                                                               \n",
       "1                              No challenge or concern                                                                                                                                               \n",
       "2                                                  NaN                                                                                                                                               \n",
       "3                                   Highly challenging                                                                                                                                               \n",
       "4                                 Somewhat challenging                                                                                                                                               \n",
       "..                                                 ...                                                                                                                                               \n",
       "169                               Somewhat challenging                                                                                                                                               \n",
       "170                                                NaN                                                                                                                                               \n",
       "171                                                NaN                                                                                                                                               \n",
       "172                               Somewhat challenging                                                                                                                                               \n",
       "173                                                NaN                                                                                                                                               \n",
       "\n",
       "    For your ML workloads at NERSC, what are your biggest pain points? Please rate your level of concern or challenges with the following: [Submitting jobs]  \\\n",
       "0                              No challenge or concern                                                                                                         \n",
       "1                              No challenge or concern                                                                                                         \n",
       "2                                                  NaN                                                                                                         \n",
       "3                                 Somewhat challenging                                                                                                         \n",
       "4                              No challenge or concern                                                                                                         \n",
       "..                                                 ...                                                                                                         \n",
       "169                               Somewhat challenging                                                                                                         \n",
       "170                                                NaN                                                                                                         \n",
       "171                                                NaN                                                                                                         \n",
       "172                               Somewhat challenging                                                                                                         \n",
       "173                                                NaN                                                                                                         \n",
       "\n",
       "    For your ML workloads at NERSC, what are your biggest pain points? Please rate your level of concern or challenges with the following: [Getting jobs through the queues]  \\\n",
       "0                                   Highly challenging                                                                                                                         \n",
       "1                                   Highly challenging                                                                                                                         \n",
       "2                                                  NaN                                                                                                                         \n",
       "3                                   Highly challenging                                                                                                                         \n",
       "4                                 Somewhat challenging                                                                                                                         \n",
       "..                                                 ...                                                                                                                         \n",
       "169                                 Highly challenging                                                                                                                         \n",
       "170                                                NaN                                                                                                                         \n",
       "171                                                NaN                                                                                                                         \n",
       "172                               Somewhat challenging                                                                                                                         \n",
       "173                                                NaN                                                                                                                         \n",
       "\n",
       "    Are there any other aspects of running your ML workload at NERSC that you find challenging?  \\\n",
       "0                                                  NaN                                            \n",
       "1                                                  NaN                                            \n",
       "2                                                  NaN                                            \n",
       "3                                                  NaN                                            \n",
       "4                                                  NaN                                            \n",
       "..                                                 ...                                            \n",
       "169  I'm not sure if ipynb are suitable for nersc j...                                            \n",
       "170                                                NaN                                            \n",
       "171                                                NaN                                            \n",
       "172                                                NaN                                            \n",
       "173                                                NaN                                            \n",
       "\n",
       "    Do you have any other comments or suggestions to improve the suitability of NERSC resources for Machine Learning?  \\\n",
       "0                                                  NaN                                                                  \n",
       "1                                                  NaN                                                                  \n",
       "2                                                  NaN                                                                  \n",
       "3                                                  NaN                                                                  \n",
       "4                                                  NaN                                                                  \n",
       "..                                                 ...                                                                  \n",
       "169                                                NaN                                                                  \n",
       "170                                                NaN                                                                  \n",
       "171                                                NaN                                                                  \n",
       "172                                                NaN                                                                  \n",
       "173                                                NaN                                                                  \n",
       "\n",
       "    Email (optional, so we can follow-up with you if relevant)  \n",
       "0                                                  NaN          \n",
       "1                          shashanksubramanian@lbl.gov          \n",
       "2                                                  NaN          \n",
       "3                                                  NaN          \n",
       "4                                                  NaN          \n",
       "..                                                 ...          \n",
       "169                                                NaN          \n",
       "170                                                NaN          \n",
       "171                                                NaN          \n",
       "172                                                NaN          \n",
       "173                                                NaN          \n",
       "\n",
       "[174 rows x 46 columns]"
      ]
     },
     "execution_count": 3,
     "metadata": {},
     "output_type": "execute_result"
    }
   ],
   "source": [
    "data"
   ]
  },
  {
   "cell_type": "markdown",
   "id": "4493fb7f-e882-49ea-8556-ef1a9638bd30",
   "metadata": {},
   "source": [
    "## How do you rate your experience in ML?"
   ]
  },
  {
   "cell_type": "code",
   "execution_count": 4,
   "id": "76ae0598-febe-47cf-868d-601e803b17f4",
   "metadata": {},
   "outputs": [
    {
     "data": {
      "image/png": "[encoded data removed]",
      "text/plain": [
       "<Figure size 432x288 with 1 Axes>"
      ]
     },
     "metadata": {
      "needs_background": "light"
     },
     "output_type": "display_data"
    }
   ],
   "source": [
    "plt.figure()\n",
    "plt.hist(data.iloc[:,1], bins=13, range=(0.75,7.25))\n",
    "plt.title('How do you rate your experience in ML?');"
   ]
  },
  {
   "cell_type": "markdown",
   "id": "d54165f6-f3a4-4909-adce-8470c381cb0d",
   "metadata": {},
   "source": [
    "## What science domains are you using ML for?"
   ]
  },
  {
   "cell_type": "code",
   "execution_count": 5,
   "id": "0a98d6a6-f8ce-4972-bf5d-ca22d076d435",
   "metadata": {},
   "outputs": [
    {
     "data": {
      "text/plain": [
       "0                                    High Energy Physics\n",
       "1                                    Applied Mathematics\n",
       "2                                           Astrophysics\n",
       "3      Biosciences, Earth and Environmental Science, ...\n",
       "4         Chemistry, Computer Science, Physics - General\n",
       "                             ...                        \n",
       "169    Astrophysics, Computer Science, High Energy Ph...\n",
       "170                                            Chemistry\n",
       "171                                    Materials Science\n",
       "172                                         Astrophysics\n",
       "173          I am currently not using ML in my research.\n",
       "Name: What science domains are you using ML for?, Length: 171, dtype: object"
      ]
     },
     "execution_count": 5,
     "metadata": {},
     "output_type": "execute_result"
    }
   ],
   "source": [
    "# Select the column and fill nans with empty string\n",
    "responses = data.iloc[:,2].dropna()\n",
    "responses"
   ]
  },
  {
   "cell_type": "code",
   "execution_count": 6,
   "id": "79313d59-3e1b-4ee5-8619-39359bd8554a",
   "metadata": {},
   "outputs": [],
   "source": [
    "# Split multi-responses by comma and flatten the list\n",
    "domains = responses.apply(lambda x: [s.strip() for s in x.split(',')]).explode()"
   ]
  },
  {
   "cell_type": "code",
   "execution_count": 7,
   "id": "ad3f29ef-b7ec-42cd-ad69-4ba03f83e5af",
   "metadata": {},
   "outputs": [
    {
     "data": {
      "text/plain": [
       "I am currently not using ML in my research.     1\n",
       "Planetary science / space physics               1\n",
       "Computational Material                          1\n",
       "Oceanography                                    1\n",
       "Accelerator physics                             1\n",
       "Condensed Matter Physics                        1\n",
       "Renewable Energy                                1\n",
       "Robotics                                        1\n",
       "Materials science                               1\n",
       "TEST                                            1\n",
       "Materials Science                               6\n",
       "Fusion Energy Science                           7\n",
       "Medical                                         8\n",
       "Geosciences                                    10\n",
       "Nuclear Physics                                11\n",
       "Biosciences                                    23\n",
       "Engineering                                    24\n",
       "Applied Mathematics                            24\n",
       "Cosmology                                      24\n",
       "Earth and Environmental Science                25\n",
       "High Energy Physics                            28\n",
       "Chemistry                                      31\n",
       "Astrophysics                                   33\n",
       "Computer Science                               34\n",
       "Physics - General                              37\n",
       "Name: What science domains are you using ML for?, dtype: int64"
      ]
     },
     "execution_count": 7,
     "metadata": {},
     "output_type": "execute_result"
    }
   ],
   "source": [
    "# Get unique response counts\n",
    "domain_counts = domains.value_counts(ascending=True)\n",
    "domain_counts"
   ]
  },
  {
   "cell_type": "code",
   "execution_count": 8,
   "id": "4bec7c9a-cfbf-4811-b278-3cd7f96384b6",
   "metadata": {},
   "outputs": [],
   "source": [
    "# Throw out rare responses\n",
    "domain_counts = domain_counts[domain_counts > 1]"
   ]
  },
  {
   "cell_type": "code",
   "execution_count": 9,
   "id": "3a7163b2-890e-4c71-aaad-e91544f0ca5b",
   "metadata": {},
   "outputs": [
    {
     "data": {
      "image/png": "[encoded data removed]",
      "text/plain": [
       "<Figure size 432x288 with 1 Axes>"
      ]
     },
     "metadata": {
      "needs_background": "light"
     },
     "output_type": "display_data"
    }
   ],
   "source": [
    "# Make the plot\n",
    "fig, ax = plt.subplots()\n",
    "\n",
    "ax.barh(domain_counts.index, domain_counts)\n",
    "ax.set_title('Science domains');"
   ]
  },
  {
   "cell_type": "markdown",
   "id": "a246e1db-e376-4cad-8b99-25455f698f16",
   "metadata": {},
   "source": [
    "## What frameworks/tools are you using?"
   ]
  },
  {
   "cell_type": "code",
   "execution_count": 10,
   "id": "04e7d7e1-a5d4-4572-96c2-7189d8fa4b1f",
   "metadata": {},
   "outputs": [
    {
     "data": {
      "text/plain": [
       "0      TensorFlow 1, TensorFlow 2, Keras\n",
       "1                  PyTorch, scikit-learn\n",
       "3            PyTorch, scikit-learn, weka\n",
       "4             TensorFlow 2, PyTorch, JAX\n",
       "5      TensorFlow 2, Keras, scikit-learn\n",
       "                     ...                \n",
       "169                              PyTorch\n",
       "170                         scikit-learn\n",
       "171         TensorFlow 2, Keras, PyTorch\n",
       "172    TensorFlow 2, Keras, scikit-learn\n",
       "173                  TensorFlow 1, Keras\n",
       "Name: What frameworks/tools are you using?, Length: 162, dtype: object"
      ]
     },
     "execution_count": 10,
     "metadata": {},
     "output_type": "execute_result"
    }
   ],
   "source": [
    "responses = data.iloc[:,4].dropna()\n",
    "responses"
   ]
  },
  {
   "cell_type": "code",
   "execution_count": 11,
   "id": "ef50bcdf-31d1-4c98-ac98-a714ca4b88fa",
   "metadata": {},
   "outputs": [],
   "source": [
    "# Split multi-responses by comma and flatten the list\n",
    "frameworks = responses.apply(lambda x: [s.strip() for s in x.split(',')]).explode()"
   ]
  },
  {
   "cell_type": "code",
   "execution_count": 12,
   "id": "a62cd067-9b64-4f6f-b940-fd69c5cc9571",
   "metadata": {},
   "outputs": [],
   "source": [
    "# Data cleanup, merging\n",
    "frameworks[frameworks.str.contains('Flux')] = 'Flux'\n",
    "frameworks[frameworks.str.contains('jax|flax|haiku', case=False)] = 'JAX'\n",
    "frameworks[frameworks.str.contains('matlab', case=False)] = 'Matlab'"
   ]
  },
  {
   "cell_type": "code",
   "execution_count": 13,
   "id": "0de5d4c0-d76b-456a-a25e-7dbc0dba00c5",
   "metadata": {},
   "outputs": [
    {
     "data": {
      "text/plain": [
       "dont know yet                                                                                                  1\n",
       "I'm still learning ML/DL techniques and currently in the process of comparing different Python frameworks.     1\n",
       "we use some customized codes.                                                                                  1\n",
       "in-house developed code                                                                                        1\n",
       "Onnxruntime                                                                                                    1\n",
       "Ray                                                                                                            1\n",
       "Megatron                                                                                                       1\n",
       "RLlib                                                                                                          1\n",
       "TensorRT                                                                                                       1\n",
       "weka                                                                                                           1\n",
       "I develop my own algorithms                                                                                    1\n",
       "Haven't decided yet                                                                                            1\n",
       "VASP                                                                                                           1\n",
       "DeepSpeed                                                                                                      1\n",
       "Caffe                                                                                                          2\n",
       "Julia                                                                                                          2\n",
       "LBANN                                                                                                          3\n",
       "Matlab                                                                                                         3\n",
       "Flux                                                                                                           5\n",
       "PyTorch Lightning                                                                                             13\n",
       "R                                                                                                             14\n",
       "TensorFlow 1                                                                                                  19\n",
       "JAX                                                                                                           24\n",
       "Keras                                                                                                         53\n",
       "TensorFlow 2                                                                                                  66\n",
       "scikit-learn                                                                                                  85\n",
       "PyTorch                                                                                                       98\n",
       "Name: What frameworks/tools are you using?, dtype: int64"
      ]
     },
     "execution_count": 13,
     "metadata": {},
     "output_type": "execute_result"
    }
   ],
   "source": [
    "# Get unique response counts\n",
    "framework_counts = frameworks.value_counts(ascending=True)\n",
    "framework_counts"
   ]
  },
  {
   "cell_type": "code",
   "execution_count": 14,
   "id": "64c1ece9-0633-49da-86cc-e97d072281e3",
   "metadata": {},
   "outputs": [],
   "source": [
    "# Filter out rare responses\n",
    "framework_counts = framework_counts[framework_counts > 1]"
   ]
  },
  {
   "cell_type": "code",
   "execution_count": 15,
   "id": "b621ec02-661c-4ae9-a182-6da08b96fc1e",
   "metadata": {},
   "outputs": [
    {
     "data": {
      "image/png": "[encoded data removed]",
      "text/plain": [
       "<Figure size 432x288 with 1 Axes>"
      ]
     },
     "metadata": {
      "needs_background": "light"
     },
     "output_type": "display_data"
    }
   ],
   "source": [
    "# Make the plot\n",
    "fig, ax = plt.subplots()\n",
    "\n",
    "ax.barh(framework_counts.index, framework_counts)\n",
    "ax.set_title('Frameworks');"
   ]
  },
  {
   "cell_type": "markdown",
   "id": "e5a7bc5a-f3be-4b29-80b4-c721db51cfce",
   "metadata": {},
   "source": [
    "## What types of ML tasks do you employ?"
   ]
  },
  {
   "cell_type": "code",
   "execution_count": 33,
   "id": "a2a0ab71-5a56-4b49-9a0c-02274ffe738d",
   "metadata": {},
   "outputs": [],
   "source": [
    "def split_multi_response(x):\n",
    "    \"\"\"Splits a multiple checkbox answer column into single flattened Series\"\"\"\n",
    "    x = x.dropna()\n",
    "    return x.apply(lambda x: [s.strip() for s in x.split(',')]).explode()"
   ]
  },
  {
   "cell_type": "code",
   "execution_count": 34,
   "id": "4e6d6f0b-9912-4200-9a4f-f3b324ad22dd",
   "metadata": {},
   "outputs": [
    {
     "data": {
      "text/plain": [
       "0      Classification, Regression, Segmentation / obj...\n",
       "1      Unsupervised / self-supervised learning / clus...\n",
       "2                 Classification, Reinforcement learning\n",
       "3      Classification, Regression, Unsupervised / sel...\n",
       "4      Unsupervised / self-supervised learning / clus...\n",
       "                             ...                        \n",
       "169    Classification, Unsupervised / self-supervised...\n",
       "170                                           Regression\n",
       "171                                           Regression\n",
       "172                           Classification, Regression\n",
       "173                                                 None\n",
       "Name: What types of ML tasks do you employ?, Length: 174, dtype: object"
      ]
     },
     "execution_count": 34,
     "metadata": {},
     "output_type": "execute_result"
    }
   ],
   "source": [
    "responses = data.iloc[:,20]\n",
    "responses"
   ]
  },
  {
   "cell_type": "code",
   "execution_count": 35,
   "id": "a8c5feb2-476c-4661-b2ef-cb1ad467fd7a",
   "metadata": {},
   "outputs": [
    {
     "data": {
      "text/plain": [
       "0                                         Classification\n",
       "0                                             Regression\n",
       "0                        Segmentation / object detection\n",
       "0      Unsupervised / self-supervised learning / clus...\n",
       "0                                    Generative modeling\n",
       "                             ...                        \n",
       "170                                           Regression\n",
       "171                                           Regression\n",
       "172                                       Classification\n",
       "172                                           Regression\n",
       "173                                                 None\n",
       "Name: What types of ML tasks do you employ?, Length: 407, dtype: object"
      ]
     },
     "execution_count": 35,
     "metadata": {},
     "output_type": "execute_result"
    }
   ],
   "source": [
    "tasks = split_multi_response(responses)\n",
    "tasks"
   ]
  },
  {
   "cell_type": "code",
   "execution_count": 40,
   "id": "e008758f-f8a0-4659-841d-9af082e26468",
   "metadata": {},
   "outputs": [],
   "source": [
    "task_counts = tasks.value_counts(ascending=True)\n",
    "#task_counts"
   ]
  },
  {
   "cell_type": "code",
   "execution_count": 38,
   "id": "80483786-12eb-4932-8e07-f539311d10c1",
   "metadata": {},
   "outputs": [
    {
     "data": {
      "text/plain": [
       "Reinforcement learning                                   25\n",
       "Segmentation / object detection                          30\n",
       "Generative modeling                                      53\n",
       "Unsupervised / self-supervised learning / clustering     83\n",
       "Classification                                           92\n",
       "Regression                                              118\n",
       "Name: What types of ML tasks do you employ?, dtype: int64"
      ]
     },
     "execution_count": 38,
     "metadata": {},
     "output_type": "execute_result"
    }
   ],
   "source": [
    "# Filter rare responses\n",
    "task_counts = task_counts[task_counts > 1]\n",
    "task_counts"
   ]
  },
  {
   "cell_type": "code",
   "execution_count": 39,
   "id": "b6815ef9-9ef0-4f1f-affc-e5846fff7878",
   "metadata": {},
   "outputs": [
    {
     "data": {
      "image/png": "[encoded data removed]",
      "text/plain": [
       "<Figure size 432x288 with 1 Axes>"
      ]
     },
     "metadata": {
      "needs_background": "light"
     },
     "output_type": "display_data"
    }
   ],
   "source": [
    "# Make the plot\n",
    "fig, ax = plt.subplots()\n",
    "\n",
    "ax.barh(task_counts.index, task_counts)\n",
    "ax.set_title('ML tasks');"
   ]
  },
  {
   "cell_type": "markdown",
   "id": "ecf20bcc-fb1d-4bb2-b026-37eea653bb83",
   "metadata": {},
   "source": [
    "## What types of models are you using?"
   ]
  },
  {
   "cell_type": "code",
   "execution_count": 65,
   "id": "67dc3edb-1ef5-429c-a4e0-40928d8a1881",
   "metadata": {},
   "outputs": [],
   "source": [
    "responses = data.iloc[:,21]"
   ]
  },
  {
   "cell_type": "code",
   "execution_count": 66,
   "id": "852836a1-b9e8-4b6a-a7b0-86ff48c44adc",
   "metadata": {},
   "outputs": [
    {
     "data": {
      "text/plain": [
       "'Traditional ML models (SVM, Random Forest, Decision Trees, Ensemble Methods, etc), Fully-connected / feed-forward Neural Networks (MLPs), Convolutional Neural Networks (CNNs), Recurrent Neural Networks (RNNs, GRUs, LSTMs), Attention models (e.g. Transformer, BERT, GPT), Graph or point-cloud Neural Networks'"
      ]
     },
     "execution_count": 66,
     "metadata": {},
     "output_type": "execute_result"
    }
   ],
   "source": [
    "responses[3]"
   ]
  },
  {
   "cell_type": "code",
   "execution_count": 69,
   "id": "ca5bf234-5234-4e4e-8cf0-d395125f412f",
   "metadata": {},
   "outputs": [],
   "source": [
    "# Simplify responses before splitting (e.g. to remove commas)\n",
    "responses = (\n",
    "    responses.str.replace(\n",
    "        'Traditional ML models (SVM, Random Forest, Decision Trees, Ensemble Methods, etc)', 'Traditional ML', regex=False)\n",
    "    .str.replace(\n",
    "        'Fully-connected / feed-forward Neural Networks (MLPs)', 'Fully-connected Neural Networks', regex=False)\n",
    "    .str.replace(\n",
    "        'Convolutional Neural Networks (CNNs)', 'Convolutional Neural Networks', regex=False)\n",
    "    .str.replace(\n",
    "        'Recurrent Neural Networks (RNNs, GRUs, LSTMs)', 'Recurrent Neural Networks', regex=False)\n",
    "    .str.replace(\n",
    "        'Attention models (e.g. Transformer, BERT, GPT)', 'Transformers', regex=False)\n",
    "    .str.replace(\n",
    "        'Graph or point-cloud Neural Networks', 'Graph/Point Neural Networks', regex=False)\n",
    ")"
   ]
  },
  {
   "cell_type": "code",
   "execution_count": 72,
   "id": "175fef9c-efd3-47ac-b5fa-474b3b41a794",
   "metadata": {},
   "outputs": [],
   "source": [
    "models = split_multi_response(responses)"
   ]
  },
  {
   "cell_type": "code",
   "execution_count": 76,
   "id": "64a1aa9e-c2a4-4e63-b598-b8a194a8b606",
   "metadata": {},
   "outputs": [],
   "source": [
    "models[models.str.contains('flow', case=False)] = 'Flow-based models'"
   ]
  },
  {
   "cell_type": "code",
   "execution_count": 79,
   "id": "c16730c8-ec73-4633-81f9-97ae752ff501",
   "metadata": {},
   "outputs": [],
   "source": [
    "models[models.str.contains('gaussian|gpr', case=False)] = 'Gaussian Processes'"
   ]
  },
  {
   "cell_type": "code",
   "execution_count": 81,
   "id": "856a8e59-eab5-4b7f-a8c5-ba1aea72e0cf",
   "metadata": {},
   "outputs": [
    {
     "data": {
      "text/plain": [
       "None                                                 1\n",
       "cGAN                                                 1\n",
       "Bayesian methods                                     1\n",
       "Reservoir Methods                                    1\n",
       "BP                                                   1\n",
       "Not sure yet                                         1\n",
       "Variational AE                                       1\n",
       "Have not started yet. Need to learn first step.      1\n",
       "Bayesian Neural Networks                             1\n",
       "Hamiltonian Monte Carlo Markov Chains                1\n",
       "Custom architectures                                 1\n",
       "Flow-based models                                    3\n",
       "Gaussian Processes                                   4\n",
       "Transformers                                        36\n",
       "Graph/Point Neural Networks                         44\n",
       "Recurrent Neural Networks                           50\n",
       "Fully-connected Neural Networks                     84\n",
       "Traditional ML                                      94\n",
       "Convolutional Neural Networks                      103\n",
       "Name: What types of models are you using? (include current and future plans), dtype: int64"
      ]
     },
     "execution_count": 81,
     "metadata": {},
     "output_type": "execute_result"
    }
   ],
   "source": [
    "model_counts = models.value_counts(ascending=True)\n",
    "model_counts"
   ]
  },
  {
   "cell_type": "code",
   "execution_count": 82,
   "id": "7c4f5058-2585-4ebe-9021-680419b372a1",
   "metadata": {},
   "outputs": [],
   "source": [
    "model_counts = model_counts[model_counts > 1]"
   ]
  },
  {
   "cell_type": "code",
   "execution_count": 83,
   "id": "b5b6c1e6-bbe8-4fbb-9edf-f03ec1f34e46",
   "metadata": {},
   "outputs": [
    {
     "data": {
      "image/png": "[encoded data removed]",
      "text/plain": [
       "<Figure size 432x288 with 1 Axes>"
      ]
     },
     "metadata": {
      "needs_background": "light"
     },
     "output_type": "display_data"
    }
   ],
   "source": [
    "# Make the plot\n",
    "fig, ax = plt.subplots()\n",
    "\n",
    "ax.barh(model_counts.index, model_counts)\n",
    "ax.set_title('Types of models');"
   ]
  }
 ],
 "metadata": {
  "kernelspec": {
   "display_name": "NERSC Python",
   "language": "python",
   "name": "python3"
  },
  "language_info": {
   "codemirror_mode": {
    "name": "ipython",
    "version": 3
   },
   "file_extension": ".py",
   "mimetype": "text/x-python",
   "name": "python",
   "nbconvert_exporter": "python",
   "pygments_lexer": "ipython3",
   "version": "3.9.7"
  }
 },
 "nbformat": 4,
 "nbformat_minor": 5
}
